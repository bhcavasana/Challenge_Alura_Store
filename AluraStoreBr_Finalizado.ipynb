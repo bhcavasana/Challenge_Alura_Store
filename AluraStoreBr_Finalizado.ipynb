{
  "cells": [
    {
      "cell_type": "markdown",
      "metadata": {
        "id": "RhEdWd9YUR6H"
      },
      "source": [
        "### Importação dos dados\n",
        "\n"
      ]
    },
    {
      "cell_type": "code",
      "execution_count": 6,
      "metadata": {
        "id": "T3EvaeQ_INIL"
      },
      "outputs": [
        {
          "data": {
            "text/html": [
              "<div>\n",
              "<style scoped>\n",
              "    .dataframe tbody tr th:only-of-type {\n",
              "        vertical-align: middle;\n",
              "    }\n",
              "\n",
              "    .dataframe tbody tr th {\n",
              "        vertical-align: top;\n",
              "    }\n",
              "\n",
              "    .dataframe thead th {\n",
              "        text-align: right;\n",
              "    }\n",
              "</style>\n",
              "<table border=\"1\" class=\"dataframe\">\n",
              "  <thead>\n",
              "    <tr style=\"text-align: right;\">\n",
              "      <th></th>\n",
              "      <th>Produto</th>\n",
              "      <th>Categoria do Produto</th>\n",
              "      <th>Preço</th>\n",
              "      <th>Frete</th>\n",
              "      <th>Data da Compra</th>\n",
              "      <th>Vendedor</th>\n",
              "      <th>Local da compra</th>\n",
              "      <th>Avaliação da compra</th>\n",
              "      <th>Tipo de pagamento</th>\n",
              "      <th>Quantidade de parcelas</th>\n",
              "      <th>lat</th>\n",
              "      <th>lon</th>\n",
              "      <th>Loja</th>\n",
              "    </tr>\n",
              "  </thead>\n",
              "  <tbody>\n",
              "    <tr>\n",
              "      <th>0</th>\n",
              "      <td>Assistente virtual</td>\n",
              "      <td>eletronicos</td>\n",
              "      <td>219.08</td>\n",
              "      <td>9.249790</td>\n",
              "      <td>16/01/2021</td>\n",
              "      <td>Pedro Gomes</td>\n",
              "      <td>SP</td>\n",
              "      <td>4</td>\n",
              "      <td>cartao_credito</td>\n",
              "      <td>8</td>\n",
              "      <td>-22.19</td>\n",
              "      <td>-48.79</td>\n",
              "      <td>Loja 1</td>\n",
              "    </tr>\n",
              "    <tr>\n",
              "      <th>1</th>\n",
              "      <td>Mesa de jantar</td>\n",
              "      <td>moveis</td>\n",
              "      <td>256.35</td>\n",
              "      <td>11.234305</td>\n",
              "      <td>18/05/2022</td>\n",
              "      <td>Beatriz Moraes</td>\n",
              "      <td>RJ</td>\n",
              "      <td>1</td>\n",
              "      <td>cartao_credito</td>\n",
              "      <td>4</td>\n",
              "      <td>-22.25</td>\n",
              "      <td>-42.66</td>\n",
              "      <td>Loja 1</td>\n",
              "    </tr>\n",
              "    <tr>\n",
              "      <th>2</th>\n",
              "      <td>Jogo de tabuleiro</td>\n",
              "      <td>brinquedos</td>\n",
              "      <td>279.51</td>\n",
              "      <td>21.262681</td>\n",
              "      <td>15/03/2021</td>\n",
              "      <td>João Souza</td>\n",
              "      <td>DF</td>\n",
              "      <td>1</td>\n",
              "      <td>cartao_credito</td>\n",
              "      <td>1</td>\n",
              "      <td>-15.83</td>\n",
              "      <td>-47.86</td>\n",
              "      <td>Loja 1</td>\n",
              "    </tr>\n",
              "    <tr>\n",
              "      <th>3</th>\n",
              "      <td>Micro-ondas</td>\n",
              "      <td>eletrodomesticos</td>\n",
              "      <td>1009.99</td>\n",
              "      <td>54.667344</td>\n",
              "      <td>03/05/2022</td>\n",
              "      <td>João Souza</td>\n",
              "      <td>RS</td>\n",
              "      <td>4</td>\n",
              "      <td>boleto</td>\n",
              "      <td>1</td>\n",
              "      <td>-30.17</td>\n",
              "      <td>-53.50</td>\n",
              "      <td>Loja 1</td>\n",
              "    </tr>\n",
              "    <tr>\n",
              "      <th>4</th>\n",
              "      <td>Cadeira de escritório</td>\n",
              "      <td>moveis</td>\n",
              "      <td>446.99</td>\n",
              "      <td>26.964689</td>\n",
              "      <td>07/11/2020</td>\n",
              "      <td>Larissa Alves</td>\n",
              "      <td>MG</td>\n",
              "      <td>5</td>\n",
              "      <td>boleto</td>\n",
              "      <td>1</td>\n",
              "      <td>-18.10</td>\n",
              "      <td>-44.38</td>\n",
              "      <td>Loja 1</td>\n",
              "    </tr>\n",
              "  </tbody>\n",
              "</table>\n",
              "</div>"
            ],
            "text/plain": [
              "                 Produto Categoria do Produto    Preço      Frete  \\\n",
              "0     Assistente virtual          eletronicos   219.08   9.249790   \n",
              "1         Mesa de jantar               moveis   256.35  11.234305   \n",
              "2      Jogo de tabuleiro           brinquedos   279.51  21.262681   \n",
              "3            Micro-ondas     eletrodomesticos  1009.99  54.667344   \n",
              "4  Cadeira de escritório               moveis   446.99  26.964689   \n",
              "\n",
              "  Data da Compra        Vendedor Local da compra  Avaliação da compra  \\\n",
              "0     16/01/2021     Pedro Gomes              SP                    4   \n",
              "1     18/05/2022  Beatriz Moraes              RJ                    1   \n",
              "2     15/03/2021      João Souza              DF                    1   \n",
              "3     03/05/2022      João Souza              RS                    4   \n",
              "4     07/11/2020   Larissa Alves              MG                    5   \n",
              "\n",
              "  Tipo de pagamento  Quantidade de parcelas    lat    lon    Loja  \n",
              "0    cartao_credito                       8 -22.19 -48.79  Loja 1  \n",
              "1    cartao_credito                       4 -22.25 -42.66  Loja 1  \n",
              "2    cartao_credito                       1 -15.83 -47.86  Loja 1  \n",
              "3            boleto                       1 -30.17 -53.50  Loja 1  \n",
              "4            boleto                       1 -18.10 -44.38  Loja 1  "
            ]
          },
          "execution_count": 6,
          "metadata": {},
          "output_type": "execute_result"
        }
      ],
      "source": [
        "import pandas as pd\n",
        "import matplotlib.pyplot as plt\n",
        "import seaborn as sns\n",
        "import numpy as np\n",
        "from IPython.display import display, Markdown\n",
        "\n",
        "url1 = \"https://raw.githubusercontent.com/alura-es-cursos/challenge1-data-science/refs/heads/main/base-de-dados-challenge-1/loja_1.csv\"\n",
        "url2 = \"https://raw.githubusercontent.com/alura-es-cursos/challenge1-data-science/refs/heads/main/base-de-dados-challenge-1/loja_2.csv\"\n",
        "url3 = \"https://raw.githubusercontent.com/alura-es-cursos/challenge1-data-science/refs/heads/main/base-de-dados-challenge-1/loja_3.csv\"\n",
        "url4 = \"https://raw.githubusercontent.com/alura-es-cursos/challenge1-data-science/refs/heads/main/base-de-dados-challenge-1/loja_4.csv\"\n",
        "\n",
        "loja1 = pd.read_csv(url1)\n",
        "loja2 = pd.read_csv(url2)\n",
        "loja3 = pd.read_csv(url3)\n",
        "loja4 = pd.read_csv(url4)\n",
        "\n",
        "loja1['Loja'] = 'Loja 1'\n",
        "loja2['Loja'] = 'Loja 2'\n",
        "loja3['Loja'] = 'Loja 3'\n",
        "loja4['Loja'] = 'Loja 4'\n",
        "\n",
        "loja1.head()"
      ]
    },
    {
      "cell_type": "markdown",
      "metadata": {
        "id": "X62IW3KFUIYm"
      },
      "source": [
        "#1. Análise do faturamento\n"
      ]
    },
    {
      "cell_type": "code",
      "execution_count": 7,
      "metadata": {
        "id": "xykobSftV64I"
      },
      "outputs": [
        {
          "data": {
            "text/markdown": [
              "### Faturamento Total por Loja:"
            ],
            "text/plain": [
              "<IPython.core.display.Markdown object>"
            ]
          },
          "metadata": {},
          "output_type": "display_data"
        },
        {
          "data": {
            "text/html": [
              "<div>\n",
              "<style scoped>\n",
              "    .dataframe tbody tr th:only-of-type {\n",
              "        vertical-align: middle;\n",
              "    }\n",
              "\n",
              "    .dataframe tbody tr th {\n",
              "        vertical-align: top;\n",
              "    }\n",
              "\n",
              "    .dataframe thead th {\n",
              "        text-align: right;\n",
              "    }\n",
              "</style>\n",
              "<table border=\"1\" class=\"dataframe\">\n",
              "  <thead>\n",
              "    <tr style=\"text-align: right;\">\n",
              "      <th></th>\n",
              "      <th>Loja</th>\n",
              "      <th>Faturamento Total</th>\n",
              "    </tr>\n",
              "  </thead>\n",
              "  <tbody>\n",
              "    <tr>\n",
              "      <th>0</th>\n",
              "      <td>Loja 1</td>\n",
              "      <td>1534509.12</td>\n",
              "    </tr>\n",
              "    <tr>\n",
              "      <th>1</th>\n",
              "      <td>Loja 2</td>\n",
              "      <td>1488459.06</td>\n",
              "    </tr>\n",
              "    <tr>\n",
              "      <th>2</th>\n",
              "      <td>Loja 3</td>\n",
              "      <td>1464025.03</td>\n",
              "    </tr>\n",
              "    <tr>\n",
              "      <th>3</th>\n",
              "      <td>Loja 4</td>\n",
              "      <td>1384497.58</td>\n",
              "    </tr>\n",
              "  </tbody>\n",
              "</table>\n",
              "</div>"
            ],
            "text/plain": [
              "     Loja  Faturamento Total\n",
              "0  Loja 1         1534509.12\n",
              "1  Loja 2         1488459.06\n",
              "2  Loja 3         1464025.03\n",
              "3  Loja 4         1384497.58"
            ]
          },
          "metadata": {},
          "output_type": "display_data"
        }
      ],
      "source": [
        "# Calculando o faturamento total de cada loja (Preço * Quantidade)\n",
        "# supondo que cada linha representa uma venda de um produto\n",
        "faturamento_loja1 = loja1['Preço'].sum()\n",
        "faturamento_loja2 = loja2['Preço'].sum()\n",
        "faturamento_loja3 = loja3['Preço'].sum()\n",
        "faturamento_loja4 = loja4['Preço'].sum()\n",
        "\n",
        "# Criando um DataFrame com os resultados\n",
        "faturamento_df = pd.DataFrame({\n",
        "    'Loja': ['Loja 1', 'Loja 2', 'Loja 3', 'Loja 4'],\n",
        "    'Faturamento Total': [faturamento_loja1, faturamento_loja2, faturamento_loja3, faturamento_loja4]\n",
        "})\n",
        "\n",
        "# Ordenando por faturamento\n",
        "faturamento_df = faturamento_df.sort_values('Faturamento Total', ascending=False)\n",
        "\n",
        "# Exibindo os resultados\n",
        "display(Markdown(\"### Faturamento Total por Loja:\"))\n",
        "display(faturamento_df)"
      ]
    },
    {
      "cell_type": "code",
      "execution_count": 21,
      "metadata": {
        "id": "KDyr8E71V3m-"
      },
      "outputs": [
        {
          "data": {
            "image/png": "[encoded data removed]",
            "text/plain": [
              "<Figure size 1200x600 with 1 Axes>"
            ]
          },
          "metadata": {},
          "output_type": "display_data"
        }
      ],
      "source": [
        "# Criando um gráfico de barras para o faturamento\n",
        "plt.figure(figsize=(12, 6))\n",
        "cores = ['#4C72B0', '#55A868', '#C44E52', '#8172B3']\n",
        "ax = sns.barplot(x='Loja', y='Faturamento Total', data=faturamento_df)\n",
        "plt.title('Faturamento Total por Loja', fontsize=16)\n",
        "plt.xlabel('Loja', fontsize=12)\n",
        "plt.ylabel('Faturamento (R$)', fontsize=12)\n",
        "\n",
        "# Adicionando os valores nas barras\n",
        "for i, valor in enumerate(faturamento_df['Faturamento Total']):\n",
        "    ax.text(i, valor + 10000, f'R$ {valor:,.2f}', ha='center', fontsize=10)\n",
        "\n",
        "plt.tight_layout()\n",
        "plt.show()"
      ]
    },
    {
      "cell_type": "markdown",
      "metadata": {
        "id": "2V_vcAPzWZmR"
      },
      "source": [
        "# 2. Vendas por Categoria\n"
      ]
    },
    {
      "cell_type": "code",
      "execution_count": 9,
      "metadata": {
        "id": "A34YupIuYhfF"
      },
      "outputs": [
        {
          "data": {
            "text/markdown": [
              "### Categorias mais populares por loja:"
            ],
            "text/plain": [
              "<IPython.core.display.Markdown object>"
            ]
          },
          "metadata": {},
          "output_type": "display_data"
        }
      ],
      "source": [
        "# Analisando as categorias mais populares por loja\n",
        "categorias_loja1 = loja1['Categoria do Produto'].value_counts().reset_index()\n",
        "categorias_loja1.columns = ['Categoria', 'Quantidade']\n",
        "categorias_loja1['Loja'] = 'Loja 1'\n",
        "\n",
        "categorias_loja2 = loja2['Categoria do Produto'].value_counts().reset_index()\n",
        "categorias_loja2.columns = ['Categoria', 'Quantidade']\n",
        "categorias_loja2['Loja'] = 'Loja 2'\n",
        "\n",
        "categorias_loja3 = loja3['Categoria do Produto'].value_counts().reset_index()\n",
        "categorias_loja3.columns = ['Categoria', 'Quantidade']\n",
        "categorias_loja3['Loja'] = 'Loja 3'\n",
        "\n",
        "categorias_loja4 = loja4['Categoria do Produto'].value_counts().reset_index()\n",
        "categorias_loja4.columns = ['Categoria', 'Quantidade']\n",
        "categorias_loja4['Loja'] = 'Loja 4'\n",
        "\n",
        "# Combinando os resultados\n",
        "categorias_df = pd.concat([categorias_loja1, categorias_loja2, categorias_loja3, categorias_loja4])\n",
        "\n",
        "# Exibindo as categorias mais populares por loja\n",
        "display(Markdown(\"### Categorias mais populares por loja:\"))"
      ]
    },
    {
      "cell_type": "code",
      "execution_count": 10,
      "metadata": {
        "id": "yZR6cOjXYSk1"
      },
      "outputs": [
        {
          "data": {
            "text/markdown": [
              "**Loja 1:**"
            ],
            "text/plain": [
              "<IPython.core.display.Markdown object>"
            ]
          },
          "metadata": {},
          "output_type": "display_data"
        },
        {
          "data": {
            "text/html": [
              "<div>\n",
              "<style scoped>\n",
              "    .dataframe tbody tr th:only-of-type {\n",
              "        vertical-align: middle;\n",
              "    }\n",
              "\n",
              "    .dataframe tbody tr th {\n",
              "        vertical-align: top;\n",
              "    }\n",
              "\n",
              "    .dataframe thead th {\n",
              "        text-align: right;\n",
              "    }\n",
              "</style>\n",
              "<table border=\"1\" class=\"dataframe\">\n",
              "  <thead>\n",
              "    <tr style=\"text-align: right;\">\n",
              "      <th></th>\n",
              "      <th>Categoria</th>\n",
              "      <th>Quantidade</th>\n",
              "    </tr>\n",
              "  </thead>\n",
              "  <tbody>\n",
              "    <tr>\n",
              "      <th>0</th>\n",
              "      <td>moveis</td>\n",
              "      <td>465</td>\n",
              "    </tr>\n",
              "    <tr>\n",
              "      <th>1</th>\n",
              "      <td>eletronicos</td>\n",
              "      <td>448</td>\n",
              "    </tr>\n",
              "    <tr>\n",
              "      <th>2</th>\n",
              "      <td>brinquedos</td>\n",
              "      <td>324</td>\n",
              "    </tr>\n",
              "  </tbody>\n",
              "</table>\n",
              "</div>"
            ],
            "text/plain": [
              "     Categoria  Quantidade\n",
              "0       moveis         465\n",
              "1  eletronicos         448\n",
              "2   brinquedos         324"
            ]
          },
          "metadata": {},
          "output_type": "display_data"
        },
        {
          "data": {
            "text/markdown": [
              "**Loja 2:**"
            ],
            "text/plain": [
              "<IPython.core.display.Markdown object>"
            ]
          },
          "metadata": {},
          "output_type": "display_data"
        },
        {
          "data": {
            "text/html": [
              "<div>\n",
              "<style scoped>\n",
              "    .dataframe tbody tr th:only-of-type {\n",
              "        vertical-align: middle;\n",
              "    }\n",
              "\n",
              "    .dataframe tbody tr th {\n",
              "        vertical-align: top;\n",
              "    }\n",
              "\n",
              "    .dataframe thead th {\n",
              "        text-align: right;\n",
              "    }\n",
              "</style>\n",
              "<table border=\"1\" class=\"dataframe\">\n",
              "  <thead>\n",
              "    <tr style=\"text-align: right;\">\n",
              "      <th></th>\n",
              "      <th>Categoria</th>\n",
              "      <th>Quantidade</th>\n",
              "    </tr>\n",
              "  </thead>\n",
              "  <tbody>\n",
              "    <tr>\n",
              "      <th>0</th>\n",
              "      <td>moveis</td>\n",
              "      <td>442</td>\n",
              "    </tr>\n",
              "    <tr>\n",
              "      <th>1</th>\n",
              "      <td>eletronicos</td>\n",
              "      <td>422</td>\n",
              "    </tr>\n",
              "    <tr>\n",
              "      <th>2</th>\n",
              "      <td>brinquedos</td>\n",
              "      <td>313</td>\n",
              "    </tr>\n",
              "  </tbody>\n",
              "</table>\n",
              "</div>"
            ],
            "text/plain": [
              "     Categoria  Quantidade\n",
              "0       moveis         442\n",
              "1  eletronicos         422\n",
              "2   brinquedos         313"
            ]
          },
          "metadata": {},
          "output_type": "display_data"
        },
        {
          "data": {
            "text/markdown": [
              "**Loja 3:**"
            ],
            "text/plain": [
              "<IPython.core.display.Markdown object>"
            ]
          },
          "metadata": {},
          "output_type": "display_data"
        },
        {
          "data": {
            "text/html": [
              "<div>\n",
              "<style scoped>\n",
              "    .dataframe tbody tr th:only-of-type {\n",
              "        vertical-align: middle;\n",
              "    }\n",
              "\n",
              "    .dataframe tbody tr th {\n",
              "        vertical-align: top;\n",
              "    }\n",
              "\n",
              "    .dataframe thead th {\n",
              "        text-align: right;\n",
              "    }\n",
              "</style>\n",
              "<table border=\"1\" class=\"dataframe\">\n",
              "  <thead>\n",
              "    <tr style=\"text-align: right;\">\n",
              "      <th></th>\n",
              "      <th>Categoria</th>\n",
              "      <th>Quantidade</th>\n",
              "    </tr>\n",
              "  </thead>\n",
              "  <tbody>\n",
              "    <tr>\n",
              "      <th>0</th>\n",
              "      <td>moveis</td>\n",
              "      <td>499</td>\n",
              "    </tr>\n",
              "    <tr>\n",
              "      <th>1</th>\n",
              "      <td>eletronicos</td>\n",
              "      <td>451</td>\n",
              "    </tr>\n",
              "    <tr>\n",
              "      <th>2</th>\n",
              "      <td>brinquedos</td>\n",
              "      <td>315</td>\n",
              "    </tr>\n",
              "  </tbody>\n",
              "</table>\n",
              "</div>"
            ],
            "text/plain": [
              "     Categoria  Quantidade\n",
              "0       moveis         499\n",
              "1  eletronicos         451\n",
              "2   brinquedos         315"
            ]
          },
          "metadata": {},
          "output_type": "display_data"
        },
        {
          "data": {
            "text/markdown": [
              "**Loja 4:**"
            ],
            "text/plain": [
              "<IPython.core.display.Markdown object>"
            ]
          },
          "metadata": {},
          "output_type": "display_data"
        },
        {
          "data": {
            "text/html": [
              "<div>\n",
              "<style scoped>\n",
              "    .dataframe tbody tr th:only-of-type {\n",
              "        vertical-align: middle;\n",
              "    }\n",
              "\n",
              "    .dataframe tbody tr th {\n",
              "        vertical-align: top;\n",
              "    }\n",
              "\n",
              "    .dataframe thead th {\n",
              "        text-align: right;\n",
              "    }\n",
              "</style>\n",
              "<table border=\"1\" class=\"dataframe\">\n",
              "  <thead>\n",
              "    <tr style=\"text-align: right;\">\n",
              "      <th></th>\n",
              "      <th>Categoria</th>\n",
              "      <th>Quantidade</th>\n",
              "    </tr>\n",
              "  </thead>\n",
              "  <tbody>\n",
              "    <tr>\n",
              "      <th>0</th>\n",
              "      <td>moveis</td>\n",
              "      <td>480</td>\n",
              "    </tr>\n",
              "    <tr>\n",
              "      <th>1</th>\n",
              "      <td>eletronicos</td>\n",
              "      <td>451</td>\n",
              "    </tr>\n",
              "    <tr>\n",
              "      <th>2</th>\n",
              "      <td>brinquedos</td>\n",
              "      <td>338</td>\n",
              "    </tr>\n",
              "  </tbody>\n",
              "</table>\n",
              "</div>"
            ],
            "text/plain": [
              "     Categoria  Quantidade\n",
              "0       moveis         480\n",
              "1  eletronicos         451\n",
              "2   brinquedos         338"
            ]
          },
          "metadata": {},
          "output_type": "display_data"
        }
      ],
      "source": [
        "# Exibindo as categorias mais populares para cada loja\n",
        "for loja in ['Loja 1', 'Loja 2', 'Loja 3', 'Loja 4']:\n",
        "    display(Markdown(f\"**{loja}:**\"))\n",
        "    top_categorias = categorias_df[categorias_df['Loja'] == loja].sort_values('Quantidade', ascending=False).head(3)\n",
        "    display(top_categorias[['Categoria', 'Quantidade']])"
      ]
    },
    {
      "cell_type": "markdown",
      "metadata": {
        "id": "Rq6tU_xSY3jk"
      },
      "source": [
        "# 3. Média de Avaliação das Lojas"
      ]
    },
    {
      "cell_type": "code",
      "execution_count": 11,
      "metadata": {
        "id": "bh3jjjJwY5MU"
      },
      "outputs": [
        {
          "data": {
            "text/markdown": [
              "### Média de Avaliação dos Clientes por Loja:"
            ],
            "text/plain": [
              "<IPython.core.display.Markdown object>"
            ]
          },
          "metadata": {},
          "output_type": "display_data"
        },
        {
          "data": {
            "text/html": [
              "<div>\n",
              "<style scoped>\n",
              "    .dataframe tbody tr th:only-of-type {\n",
              "        vertical-align: middle;\n",
              "    }\n",
              "\n",
              "    .dataframe tbody tr th {\n",
              "        vertical-align: top;\n",
              "    }\n",
              "\n",
              "    .dataframe thead th {\n",
              "        text-align: right;\n",
              "    }\n",
              "</style>\n",
              "<table border=\"1\" class=\"dataframe\">\n",
              "  <thead>\n",
              "    <tr style=\"text-align: right;\">\n",
              "      <th></th>\n",
              "      <th>Loja</th>\n",
              "      <th>Média de Avaliação</th>\n",
              "    </tr>\n",
              "  </thead>\n",
              "  <tbody>\n",
              "    <tr>\n",
              "      <th>0</th>\n",
              "      <td>Loja 1</td>\n",
              "      <td>3.976685</td>\n",
              "    </tr>\n",
              "    <tr>\n",
              "      <th>3</th>\n",
              "      <td>Loja 4</td>\n",
              "      <td>3.995759</td>\n",
              "    </tr>\n",
              "    <tr>\n",
              "      <th>1</th>\n",
              "      <td>Loja 2</td>\n",
              "      <td>4.037304</td>\n",
              "    </tr>\n",
              "    <tr>\n",
              "      <th>2</th>\n",
              "      <td>Loja 3</td>\n",
              "      <td>4.048326</td>\n",
              "    </tr>\n",
              "  </tbody>\n",
              "</table>\n",
              "</div>"
            ],
            "text/plain": [
              "     Loja  Média de Avaliação\n",
              "0  Loja 1            3.976685\n",
              "3  Loja 4            3.995759\n",
              "1  Loja 2            4.037304\n",
              "2  Loja 3            4.048326"
            ]
          },
          "metadata": {},
          "output_type": "display_data"
        }
      ],
      "source": [
        "# Calculando a média de avaliação dos clientes por loja\n",
        "avaliacao_loja1 = loja1['Avaliação da compra'].mean()\n",
        "avaliacao_loja2 = loja2['Avaliação da compra'].mean()\n",
        "avaliacao_loja3 = loja3['Avaliação da compra'].mean()\n",
        "avaliacao_loja4 = loja4['Avaliação da compra'].mean()\n",
        "\n",
        "# Criando um DataFrame com os resultados\n",
        "avaliacao_df = pd.DataFrame({\n",
        "    'Loja': ['Loja 1', 'Loja 2', 'Loja 3', 'Loja 4'],\n",
        "    'Média de Avaliação': [avaliacao_loja1, avaliacao_loja2, avaliacao_loja3, avaliacao_loja4]\n",
        "})\n",
        "\n",
        "# Ordenando por média de avaliação (do menor para o maior)\n",
        "avaliacao_df = avaliacao_df.sort_values('Média de Avaliação')\n",
        "\n",
        "# Exibindo os resultados\n",
        "display(Markdown(\"### Média de Avaliação dos Clientes por Loja:\"))\n",
        "display(avaliacao_df)"
      ]
    },
    {
      "cell_type": "code",
      "execution_count": 12,
      "metadata": {
        "id": "I0KkjPoTY88F"
      },
      "outputs": [
        {
          "data": {
            "image/png": "[encoded data removed]",
            "text/plain": [
              "<Figure size 1000x800 with 1 Axes>"
            ]
          },
          "metadata": {},
          "output_type": "display_data"
        }
      ],
      "source": [
        "# Criando um gráfico de pizza para a distribuição das avaliações\n",
        "plt.figure(figsize=(10, 8))\n",
        "explode = [0.1, 0, 0, 0]  # Dando destaque a loja com menor avaliação\n",
        "\n",
        "plt.pie(avaliacao_df['Média de Avaliação'], \n",
        "        labels=avaliacao_df['Loja'], \n",
        "        autopct='%1.2f%%',\n",
        "        startangle=90, \n",
        "        explode=explode,\n",
        "        colors=cores,\n",
        "        shadow=True,\n",
        "        wedgeprops={'edgecolor': 'black'})\n",
        "\n",
        "plt.title('Distribuição da Média de Avaliação dos Clientes por Loja', fontsize=16)\n",
        "plt.axis('equal')\n",
        "plt.tight_layout()\n",
        "plt.show()"
      ]
    },
    {
      "cell_type": "markdown",
      "metadata": {
        "id": "DmNp1KPBZCm-"
      },
      "source": [
        "# 4. Produtos Mais e Menos Vendidos"
      ]
    },
    {
      "cell_type": "code",
      "execution_count": 13,
      "metadata": {
        "id": "qoyjqijQZHfF"
      },
      "outputs": [
        {
          "data": {
            "text/markdown": [
              "### Produtos mais vendidos por loja:"
            ],
            "text/plain": [
              "<IPython.core.display.Markdown object>"
            ]
          },
          "metadata": {},
          "output_type": "display_data"
        },
        {
          "data": {
            "text/markdown": [
              "**Loja 1:**"
            ],
            "text/plain": [
              "<IPython.core.display.Markdown object>"
            ]
          },
          "metadata": {},
          "output_type": "display_data"
        },
        {
          "data": {
            "text/html": [
              "<div>\n",
              "<style scoped>\n",
              "    .dataframe tbody tr th:only-of-type {\n",
              "        vertical-align: middle;\n",
              "    }\n",
              "\n",
              "    .dataframe tbody tr th {\n",
              "        vertical-align: top;\n",
              "    }\n",
              "\n",
              "    .dataframe thead th {\n",
              "        text-align: right;\n",
              "    }\n",
              "</style>\n",
              "<table border=\"1\" class=\"dataframe\">\n",
              "  <thead>\n",
              "    <tr style=\"text-align: right;\">\n",
              "      <th></th>\n",
              "      <th>Produto</th>\n",
              "      <th>Quantidade</th>\n",
              "    </tr>\n",
              "  </thead>\n",
              "  <tbody>\n",
              "    <tr>\n",
              "      <th>0</th>\n",
              "      <td>TV Led UHD 4K</td>\n",
              "      <td>60</td>\n",
              "    </tr>\n",
              "    <tr>\n",
              "      <th>1</th>\n",
              "      <td>Guarda roupas</td>\n",
              "      <td>60</td>\n",
              "    </tr>\n",
              "    <tr>\n",
              "      <th>2</th>\n",
              "      <td>Micro-ondas</td>\n",
              "      <td>60</td>\n",
              "    </tr>\n",
              "    <tr>\n",
              "      <th>3</th>\n",
              "      <td>Secadora de roupas</td>\n",
              "      <td>58</td>\n",
              "    </tr>\n",
              "    <tr>\n",
              "      <th>4</th>\n",
              "      <td>Blocos de montar</td>\n",
              "      <td>56</td>\n",
              "    </tr>\n",
              "  </tbody>\n",
              "</table>\n",
              "</div>"
            ],
            "text/plain": [
              "              Produto  Quantidade\n",
              "0       TV Led UHD 4K          60\n",
              "1       Guarda roupas          60\n",
              "2         Micro-ondas          60\n",
              "3  Secadora de roupas          58\n",
              "4    Blocos de montar          56"
            ]
          },
          "metadata": {},
          "output_type": "display_data"
        },
        {
          "data": {
            "text/markdown": [
              "**Loja 2:**"
            ],
            "text/plain": [
              "<IPython.core.display.Markdown object>"
            ]
          },
          "metadata": {},
          "output_type": "display_data"
        },
        {
          "data": {
            "text/html": [
              "<div>\n",
              "<style scoped>\n",
              "    .dataframe tbody tr th:only-of-type {\n",
              "        vertical-align: middle;\n",
              "    }\n",
              "\n",
              "    .dataframe tbody tr th {\n",
              "        vertical-align: top;\n",
              "    }\n",
              "\n",
              "    .dataframe thead th {\n",
              "        text-align: right;\n",
              "    }\n",
              "</style>\n",
              "<table border=\"1\" class=\"dataframe\">\n",
              "  <thead>\n",
              "    <tr style=\"text-align: right;\">\n",
              "      <th></th>\n",
              "      <th>Produto</th>\n",
              "      <th>Quantidade</th>\n",
              "    </tr>\n",
              "  </thead>\n",
              "  <tbody>\n",
              "    <tr>\n",
              "      <th>0</th>\n",
              "      <td>Iniciando em programação</td>\n",
              "      <td>65</td>\n",
              "    </tr>\n",
              "    <tr>\n",
              "      <th>1</th>\n",
              "      <td>Micro-ondas</td>\n",
              "      <td>62</td>\n",
              "    </tr>\n",
              "    <tr>\n",
              "      <th>2</th>\n",
              "      <td>Bateria</td>\n",
              "      <td>61</td>\n",
              "    </tr>\n",
              "    <tr>\n",
              "      <th>3</th>\n",
              "      <td>Violão</td>\n",
              "      <td>58</td>\n",
              "    </tr>\n",
              "    <tr>\n",
              "      <th>4</th>\n",
              "      <td>Pandeiro</td>\n",
              "      <td>58</td>\n",
              "    </tr>\n",
              "  </tbody>\n",
              "</table>\n",
              "</div>"
            ],
            "text/plain": [
              "                    Produto  Quantidade\n",
              "0  Iniciando em programação          65\n",
              "1               Micro-ondas          62\n",
              "2                   Bateria          61\n",
              "3                    Violão          58\n",
              "4                  Pandeiro          58"
            ]
          },
          "metadata": {},
          "output_type": "display_data"
        },
        {
          "data": {
            "text/markdown": [
              "**Loja 3:**"
            ],
            "text/plain": [
              "<IPython.core.display.Markdown object>"
            ]
          },
          "metadata": {},
          "output_type": "display_data"
        },
        {
          "data": {
            "text/html": [
              "<div>\n",
              "<style scoped>\n",
              "    .dataframe tbody tr th:only-of-type {\n",
              "        vertical-align: middle;\n",
              "    }\n",
              "\n",
              "    .dataframe tbody tr th {\n",
              "        vertical-align: top;\n",
              "    }\n",
              "\n",
              "    .dataframe thead th {\n",
              "        text-align: right;\n",
              "    }\n",
              "</style>\n",
              "<table border=\"1\" class=\"dataframe\">\n",
              "  <thead>\n",
              "    <tr style=\"text-align: right;\">\n",
              "      <th></th>\n",
              "      <th>Produto</th>\n",
              "      <th>Quantidade</th>\n",
              "    </tr>\n",
              "  </thead>\n",
              "  <tbody>\n",
              "    <tr>\n",
              "      <th>0</th>\n",
              "      <td>Kit banquetas</td>\n",
              "      <td>57</td>\n",
              "    </tr>\n",
              "    <tr>\n",
              "      <th>1</th>\n",
              "      <td>Cama king</td>\n",
              "      <td>56</td>\n",
              "    </tr>\n",
              "    <tr>\n",
              "      <th>2</th>\n",
              "      <td>Mesa de jantar</td>\n",
              "      <td>56</td>\n",
              "    </tr>\n",
              "    <tr>\n",
              "      <th>3</th>\n",
              "      <td>Jogo de panelas</td>\n",
              "      <td>55</td>\n",
              "    </tr>\n",
              "    <tr>\n",
              "      <th>4</th>\n",
              "      <td>Cômoda</td>\n",
              "      <td>55</td>\n",
              "    </tr>\n",
              "  </tbody>\n",
              "</table>\n",
              "</div>"
            ],
            "text/plain": [
              "           Produto  Quantidade\n",
              "0    Kit banquetas          57\n",
              "1        Cama king          56\n",
              "2   Mesa de jantar          56\n",
              "3  Jogo de panelas          55\n",
              "4           Cômoda          55"
            ]
          },
          "metadata": {},
          "output_type": "display_data"
        },
        {
          "data": {
            "text/markdown": [
              "**Loja 4:**"
            ],
            "text/plain": [
              "<IPython.core.display.Markdown object>"
            ]
          },
          "metadata": {},
          "output_type": "display_data"
        },
        {
          "data": {
            "text/html": [
              "<div>\n",
              "<style scoped>\n",
              "    .dataframe tbody tr th:only-of-type {\n",
              "        vertical-align: middle;\n",
              "    }\n",
              "\n",
              "    .dataframe tbody tr th {\n",
              "        vertical-align: top;\n",
              "    }\n",
              "\n",
              "    .dataframe thead th {\n",
              "        text-align: right;\n",
              "    }\n",
              "</style>\n",
              "<table border=\"1\" class=\"dataframe\">\n",
              "  <thead>\n",
              "    <tr style=\"text-align: right;\">\n",
              "      <th></th>\n",
              "      <th>Produto</th>\n",
              "      <th>Quantidade</th>\n",
              "    </tr>\n",
              "  </thead>\n",
              "  <tbody>\n",
              "    <tr>\n",
              "      <th>0</th>\n",
              "      <td>Cama box</td>\n",
              "      <td>62</td>\n",
              "    </tr>\n",
              "    <tr>\n",
              "      <th>1</th>\n",
              "      <td>Faqueiro</td>\n",
              "      <td>59</td>\n",
              "    </tr>\n",
              "    <tr>\n",
              "      <th>2</th>\n",
              "      <td>Dashboards com Power BI</td>\n",
              "      <td>56</td>\n",
              "    </tr>\n",
              "    <tr>\n",
              "      <th>3</th>\n",
              "      <td>Cama king</td>\n",
              "      <td>56</td>\n",
              "    </tr>\n",
              "    <tr>\n",
              "      <th>4</th>\n",
              "      <td>Cômoda</td>\n",
              "      <td>55</td>\n",
              "    </tr>\n",
              "  </tbody>\n",
              "</table>\n",
              "</div>"
            ],
            "text/plain": [
              "                   Produto  Quantidade\n",
              "0                 Cama box          62\n",
              "1                 Faqueiro          59\n",
              "2  Dashboards com Power BI          56\n",
              "3                Cama king          56\n",
              "4                   Cômoda          55"
            ]
          },
          "metadata": {},
          "output_type": "display_data"
        }
      ],
      "source": [
        "# Analisando os produtos mais vendidos por loja\n",
        "produtos_mais_vendidos_loja1 = loja1['Produto'].value_counts().reset_index().head(5)\n",
        "produtos_mais_vendidos_loja1.columns = ['Produto', 'Quantidade']\n",
        "produtos_mais_vendidos_loja1['Loja'] = 'Loja 1'\n",
        "\n",
        "produtos_mais_vendidos_loja2 = loja2['Produto'].value_counts().reset_index().head(5)\n",
        "produtos_mais_vendidos_loja2.columns = ['Produto', 'Quantidade']\n",
        "produtos_mais_vendidos_loja2['Loja'] = 'Loja 2'\n",
        "\n",
        "produtos_mais_vendidos_loja3 = loja3['Produto'].value_counts().reset_index().head(5)\n",
        "produtos_mais_vendidos_loja3.columns = ['Produto', 'Quantidade']\n",
        "produtos_mais_vendidos_loja3['Loja'] = 'Loja 3'\n",
        "\n",
        "produtos_mais_vendidos_loja4 = loja4['Produto'].value_counts().reset_index().head(5)\n",
        "produtos_mais_vendidos_loja4.columns = ['Produto', 'Quantidade']\n",
        "produtos_mais_vendidos_loja4['Loja'] = 'Loja 4'\n",
        "\n",
        "# Combinando os resultados dos produtos mais vendidos\n",
        "produtos_mais_vendidos_df = pd.concat([\n",
        "    produtos_mais_vendidos_loja1, \n",
        "    produtos_mais_vendidos_loja2, \n",
        "    produtos_mais_vendidos_loja3, \n",
        "    produtos_mais_vendidos_loja4\n",
        "])\n",
        "\n",
        "# Exibindo os produtos mais vendidos por loja\n",
        "display(Markdown(\"### Produtos mais vendidos por loja:\"))\n",
        "\n",
        "for loja in ['Loja 1', 'Loja 2', 'Loja 3', 'Loja 4']:\n",
        "    display(Markdown(f\"**{loja}:**\"))\n",
        "    top_produtos = produtos_mais_vendidos_df[produtos_mais_vendidos_df['Loja'] == loja].sort_values('Quantidade', ascending=False)\n",
        "    display(top_produtos[['Produto', 'Quantidade']])"
      ]
    },
    {
      "cell_type": "code",
      "execution_count": 14,
      "metadata": {
        "id": "0Sw3sd4IZIGW"
      },
      "outputs": [
        {
          "data": {
            "text/markdown": [
              "### Produtos menos vendidos por loja:"
            ],
            "text/plain": [
              "<IPython.core.display.Markdown object>"
            ]
          },
          "metadata": {},
          "output_type": "display_data"
        },
        {
          "data": {
            "text/markdown": [
              "**Loja 1:**"
            ],
            "text/plain": [
              "<IPython.core.display.Markdown object>"
            ]
          },
          "metadata": {},
          "output_type": "display_data"
        },
        {
          "data": {
            "text/html": [
              "<div>\n",
              "<style scoped>\n",
              "    .dataframe tbody tr th:only-of-type {\n",
              "        vertical-align: middle;\n",
              "    }\n",
              "\n",
              "    .dataframe tbody tr th {\n",
              "        vertical-align: top;\n",
              "    }\n",
              "\n",
              "    .dataframe thead th {\n",
              "        text-align: right;\n",
              "    }\n",
              "</style>\n",
              "<table border=\"1\" class=\"dataframe\">\n",
              "  <thead>\n",
              "    <tr style=\"text-align: right;\">\n",
              "      <th></th>\n",
              "      <th>Produto</th>\n",
              "      <th>Quantidade</th>\n",
              "    </tr>\n",
              "  </thead>\n",
              "  <tbody>\n",
              "    <tr>\n",
              "      <th>49</th>\n",
              "      <td>Headset</td>\n",
              "      <td>33</td>\n",
              "    </tr>\n",
              "    <tr>\n",
              "      <th>50</th>\n",
              "      <td>Celular ABXY</td>\n",
              "      <td>33</td>\n",
              "    </tr>\n",
              "    <tr>\n",
              "      <th>48</th>\n",
              "      <td>Panela de pressão</td>\n",
              "      <td>35</td>\n",
              "    </tr>\n",
              "    <tr>\n",
              "      <th>47</th>\n",
              "      <td>Pandeiro</td>\n",
              "      <td>36</td>\n",
              "    </tr>\n",
              "    <tr>\n",
              "      <th>46</th>\n",
              "      <td>Ciência de dados com python</td>\n",
              "      <td>39</td>\n",
              "    </tr>\n",
              "  </tbody>\n",
              "</table>\n",
              "</div>"
            ],
            "text/plain": [
              "                        Produto  Quantidade\n",
              "49                      Headset          33\n",
              "50                 Celular ABXY          33\n",
              "48            Panela de pressão          35\n",
              "47                     Pandeiro          36\n",
              "46  Ciência de dados com python          39"
            ]
          },
          "metadata": {},
          "output_type": "display_data"
        },
        {
          "data": {
            "text/markdown": [
              "**Loja 2:**"
            ],
            "text/plain": [
              "<IPython.core.display.Markdown object>"
            ]
          },
          "metadata": {},
          "output_type": "display_data"
        },
        {
          "data": {
            "text/html": [
              "<div>\n",
              "<style scoped>\n",
              "    .dataframe tbody tr th:only-of-type {\n",
              "        vertical-align: middle;\n",
              "    }\n",
              "\n",
              "    .dataframe tbody tr th {\n",
              "        vertical-align: top;\n",
              "    }\n",
              "\n",
              "    .dataframe thead th {\n",
              "        text-align: right;\n",
              "    }\n",
              "</style>\n",
              "<table border=\"1\" class=\"dataframe\">\n",
              "  <thead>\n",
              "    <tr style=\"text-align: right;\">\n",
              "      <th></th>\n",
              "      <th>Produto</th>\n",
              "      <th>Quantidade</th>\n",
              "    </tr>\n",
              "  </thead>\n",
              "  <tbody>\n",
              "    <tr>\n",
              "      <th>50</th>\n",
              "      <td>Jogo de tabuleiro</td>\n",
              "      <td>32</td>\n",
              "    </tr>\n",
              "    <tr>\n",
              "      <th>48</th>\n",
              "      <td>Mesa de jantar</td>\n",
              "      <td>34</td>\n",
              "    </tr>\n",
              "    <tr>\n",
              "      <th>49</th>\n",
              "      <td>Impressora</td>\n",
              "      <td>34</td>\n",
              "    </tr>\n",
              "    <tr>\n",
              "      <th>47</th>\n",
              "      <td>Poltrona</td>\n",
              "      <td>35</td>\n",
              "    </tr>\n",
              "    <tr>\n",
              "      <th>46</th>\n",
              "      <td>Fone de ouvido</td>\n",
              "      <td>37</td>\n",
              "    </tr>\n",
              "  </tbody>\n",
              "</table>\n",
              "</div>"
            ],
            "text/plain": [
              "              Produto  Quantidade\n",
              "50  Jogo de tabuleiro          32\n",
              "48     Mesa de jantar          34\n",
              "49         Impressora          34\n",
              "47           Poltrona          35\n",
              "46     Fone de ouvido          37"
            ]
          },
          "metadata": {},
          "output_type": "display_data"
        },
        {
          "data": {
            "text/markdown": [
              "**Loja 3:**"
            ],
            "text/plain": [
              "<IPython.core.display.Markdown object>"
            ]
          },
          "metadata": {},
          "output_type": "display_data"
        },
        {
          "data": {
            "text/html": [
              "<div>\n",
              "<style scoped>\n",
              "    .dataframe tbody tr th:only-of-type {\n",
              "        vertical-align: middle;\n",
              "    }\n",
              "\n",
              "    .dataframe tbody tr th {\n",
              "        vertical-align: top;\n",
              "    }\n",
              "\n",
              "    .dataframe thead th {\n",
              "        text-align: right;\n",
              "    }\n",
              "</style>\n",
              "<table border=\"1\" class=\"dataframe\">\n",
              "  <thead>\n",
              "    <tr style=\"text-align: right;\">\n",
              "      <th></th>\n",
              "      <th>Produto</th>\n",
              "      <th>Quantidade</th>\n",
              "    </tr>\n",
              "  </thead>\n",
              "  <tbody>\n",
              "    <tr>\n",
              "      <th>50</th>\n",
              "      <td>Blocos de montar</td>\n",
              "      <td>35</td>\n",
              "    </tr>\n",
              "    <tr>\n",
              "      <th>47</th>\n",
              "      <td>Mochila</td>\n",
              "      <td>36</td>\n",
              "    </tr>\n",
              "    <tr>\n",
              "      <th>48</th>\n",
              "      <td>Micro-ondas</td>\n",
              "      <td>36</td>\n",
              "    </tr>\n",
              "    <tr>\n",
              "      <th>49</th>\n",
              "      <td>Jogo de copos</td>\n",
              "      <td>36</td>\n",
              "    </tr>\n",
              "    <tr>\n",
              "      <th>46</th>\n",
              "      <td>Guitarra</td>\n",
              "      <td>38</td>\n",
              "    </tr>\n",
              "  </tbody>\n",
              "</table>\n",
              "</div>"
            ],
            "text/plain": [
              "             Produto  Quantidade\n",
              "50  Blocos de montar          35\n",
              "47           Mochila          36\n",
              "48       Micro-ondas          36\n",
              "49     Jogo de copos          36\n",
              "46          Guitarra          38"
            ]
          },
          "metadata": {},
          "output_type": "display_data"
        },
        {
          "data": {
            "text/markdown": [
              "**Loja 4:**"
            ],
            "text/plain": [
              "<IPython.core.display.Markdown object>"
            ]
          },
          "metadata": {},
          "output_type": "display_data"
        },
        {
          "data": {
            "text/html": [
              "<div>\n",
              "<style scoped>\n",
              "    .dataframe tbody tr th:only-of-type {\n",
              "        vertical-align: middle;\n",
              "    }\n",
              "\n",
              "    .dataframe tbody tr th {\n",
              "        vertical-align: top;\n",
              "    }\n",
              "\n",
              "    .dataframe thead th {\n",
              "        text-align: right;\n",
              "    }\n",
              "</style>\n",
              "<table border=\"1\" class=\"dataframe\">\n",
              "  <thead>\n",
              "    <tr style=\"text-align: right;\">\n",
              "      <th></th>\n",
              "      <th>Produto</th>\n",
              "      <th>Quantidade</th>\n",
              "    </tr>\n",
              "  </thead>\n",
              "  <tbody>\n",
              "    <tr>\n",
              "      <th>50</th>\n",
              "      <td>Guitarra</td>\n",
              "      <td>33</td>\n",
              "    </tr>\n",
              "    <tr>\n",
              "      <th>49</th>\n",
              "      <td>Guarda roupas</td>\n",
              "      <td>34</td>\n",
              "    </tr>\n",
              "    <tr>\n",
              "      <th>48</th>\n",
              "      <td>Violão</td>\n",
              "      <td>37</td>\n",
              "    </tr>\n",
              "    <tr>\n",
              "      <th>46</th>\n",
              "      <td>Lavadora de roupas</td>\n",
              "      <td>38</td>\n",
              "    </tr>\n",
              "    <tr>\n",
              "      <th>47</th>\n",
              "      <td>Ciência de dados com python</td>\n",
              "      <td>38</td>\n",
              "    </tr>\n",
              "  </tbody>\n",
              "</table>\n",
              "</div>"
            ],
            "text/plain": [
              "                        Produto  Quantidade\n",
              "50                     Guitarra          33\n",
              "49                Guarda roupas          34\n",
              "48                       Violão          37\n",
              "46           Lavadora de roupas          38\n",
              "47  Ciência de dados com python          38"
            ]
          },
          "metadata": {},
          "output_type": "display_data"
        }
      ],
      "source": [
        "# Analisando os produtos menos vendidos por loja\n",
        "produtos_menos_vendidos_loja1 = loja1['Produto'].value_counts().reset_index().tail(5)\n",
        "produtos_menos_vendidos_loja1.columns = ['Produto', 'Quantidade']\n",
        "produtos_menos_vendidos_loja1['Loja'] = 'Loja 1'\n",
        "\n",
        "produtos_menos_vendidos_loja2 = loja2['Produto'].value_counts().reset_index().tail(5)\n",
        "produtos_menos_vendidos_loja2.columns = ['Produto', 'Quantidade']\n",
        "produtos_menos_vendidos_loja2['Loja'] = 'Loja 2'\n",
        "\n",
        "produtos_menos_vendidos_loja3 = loja3['Produto'].value_counts().reset_index().tail(5)\n",
        "produtos_menos_vendidos_loja3.columns = ['Produto', 'Quantidade']\n",
        "produtos_menos_vendidos_loja3['Loja'] = 'Loja 3'\n",
        "\n",
        "produtos_menos_vendidos_loja4 = loja4['Produto'].value_counts().reset_index().tail(5)\n",
        "produtos_menos_vendidos_loja4.columns = ['Produto', 'Quantidade']\n",
        "produtos_menos_vendidos_loja4['Loja'] = 'Loja 4'\n",
        "\n",
        "# Combinando os resultados dos produtos menos vendidos\n",
        "produtos_menos_vendidos_df = pd.concat([\n",
        "    produtos_menos_vendidos_loja1, \n",
        "    produtos_menos_vendidos_loja2, \n",
        "    produtos_menos_vendidos_loja3, \n",
        "    produtos_menos_vendidos_loja4\n",
        "])\n",
        "\n",
        "# Exibindo os produtos menos vendidos por loja\n",
        "display(Markdown(\"### Produtos menos vendidos por loja:\"))\n",
        "\n",
        "for loja in ['Loja 1', 'Loja 2', 'Loja 3', 'Loja 4']:\n",
        "    display(Markdown(f\"**{loja}:**\"))\n",
        "    bottom_produtos = produtos_menos_vendidos_df[produtos_menos_vendidos_df['Loja'] == loja].sort_values('Quantidade')\n",
        "    display(bottom_produtos[['Produto', 'Quantidade']])"
      ]
    },
    {
      "cell_type": "markdown",
      "metadata": {
        "id": "Fl0cGi3bZKqU"
      },
      "source": [
        "# 5. Frete Médio por Loja\n"
      ]
    },
    {
      "cell_type": "code",
      "execution_count": 15,
      "metadata": {
        "id": "S2JeaCykZNy9"
      },
      "outputs": [
        {
          "data": {
            "text/markdown": [
              "### Custo Médio do Frete por Loja:"
            ],
            "text/plain": [
              "<IPython.core.display.Markdown object>"
            ]
          },
          "metadata": {},
          "output_type": "display_data"
        },
        {
          "data": {
            "text/html": [
              "<div>\n",
              "<style scoped>\n",
              "    .dataframe tbody tr th:only-of-type {\n",
              "        vertical-align: middle;\n",
              "    }\n",
              "\n",
              "    .dataframe tbody tr th {\n",
              "        vertical-align: top;\n",
              "    }\n",
              "\n",
              "    .dataframe thead th {\n",
              "        text-align: right;\n",
              "    }\n",
              "</style>\n",
              "<table border=\"1\" class=\"dataframe\">\n",
              "  <thead>\n",
              "    <tr style=\"text-align: right;\">\n",
              "      <th></th>\n",
              "      <th>Loja</th>\n",
              "      <th>Frete Médio</th>\n",
              "    </tr>\n",
              "  </thead>\n",
              "  <tbody>\n",
              "    <tr>\n",
              "      <th>0</th>\n",
              "      <td>Loja 1</td>\n",
              "      <td>34.691805</td>\n",
              "    </tr>\n",
              "    <tr>\n",
              "      <th>1</th>\n",
              "      <td>Loja 2</td>\n",
              "      <td>33.621941</td>\n",
              "    </tr>\n",
              "    <tr>\n",
              "      <th>2</th>\n",
              "      <td>Loja 3</td>\n",
              "      <td>33.074464</td>\n",
              "    </tr>\n",
              "    <tr>\n",
              "      <th>3</th>\n",
              "      <td>Loja 4</td>\n",
              "      <td>31.278997</td>\n",
              "    </tr>\n",
              "  </tbody>\n",
              "</table>\n",
              "</div>"
            ],
            "text/plain": [
              "     Loja  Frete Médio\n",
              "0  Loja 1    34.691805\n",
              "1  Loja 2    33.621941\n",
              "2  Loja 3    33.074464\n",
              "3  Loja 4    31.278997"
            ]
          },
          "metadata": {},
          "output_type": "display_data"
        }
      ],
      "source": [
        "# Calculando o custo médio do frete por loja\n",
        "frete_loja1 = loja1['Frete'].mean()\n",
        "frete_loja2 = loja2['Frete'].mean()\n",
        "frete_loja3 = loja3['Frete'].mean()\n",
        "frete_loja4 = loja4['Frete'].mean()\n",
        "\n",
        "# Criando um DataFrame com os resultados\n",
        "frete_df = pd.DataFrame({\n",
        "    'Loja': ['Loja 1', 'Loja 2', 'Loja 3', 'Loja 4'],\n",
        "    'Frete Médio': [frete_loja1, frete_loja2, frete_loja3, frete_loja4]\n",
        "})\n",
        "\n",
        "# Ordenando por frete médio\n",
        "frete_df = frete_df.sort_values('Frete Médio', ascending=False)\n",
        "\n",
        "# Exibindo os resultados\n",
        "display(Markdown(\"### Custo Médio do Frete por Loja:\"))\n",
        "display(frete_df)"
      ]
    },
    {
      "cell_type": "markdown",
      "metadata": {
        "id": "0tSdCie9ZQlt"
      },
      "source": [
        "# 6. Análise Comparativa e Conclusão"
      ]
    },
    {
      "cell_type": "code",
      "execution_count": 16,
      "metadata": {
        "id": "Ej2Ql5Yz1234"
      },
      "outputs": [
        {
          "data": {
            "text/markdown": [
              "### Análise de Desempenho das Lojas:"
            ],
            "text/plain": [
              "<IPython.core.display.Markdown object>"
            ]
          },
          "metadata": {},
          "output_type": "display_data"
        },
        {
          "data": {
            "text/html": [
              "<div>\n",
              "<style scoped>\n",
              "    .dataframe tbody tr th:only-of-type {\n",
              "        vertical-align: middle;\n",
              "    }\n",
              "\n",
              "    .dataframe tbody tr th {\n",
              "        vertical-align: top;\n",
              "    }\n",
              "\n",
              "    .dataframe thead th {\n",
              "        text-align: right;\n",
              "    }\n",
              "</style>\n",
              "<table border=\"1\" class=\"dataframe\">\n",
              "  <thead>\n",
              "    <tr style=\"text-align: right;\">\n",
              "      <th></th>\n",
              "      <th>Loja</th>\n",
              "      <th>Pontos Faturamento</th>\n",
              "      <th>Pontos Avaliação</th>\n",
              "      <th>Pontos Frete</th>\n",
              "      <th>Pontuação Total</th>\n",
              "    </tr>\n",
              "  </thead>\n",
              "  <tbody>\n",
              "    <tr>\n",
              "      <th>3</th>\n",
              "      <td>Loja 4</td>\n",
              "      <td>1.0</td>\n",
              "      <td>2.0</td>\n",
              "      <td>4.0</td>\n",
              "      <td>1.9</td>\n",
              "    </tr>\n",
              "    <tr>\n",
              "      <th>0</th>\n",
              "      <td>Loja 1</td>\n",
              "      <td>4.0</td>\n",
              "      <td>1.0</td>\n",
              "      <td>1.0</td>\n",
              "      <td>2.5</td>\n",
              "    </tr>\n",
              "    <tr>\n",
              "      <th>1</th>\n",
              "      <td>Loja 2</td>\n",
              "      <td>3.0</td>\n",
              "      <td>3.0</td>\n",
              "      <td>2.0</td>\n",
              "      <td>2.8</td>\n",
              "    </tr>\n",
              "    <tr>\n",
              "      <th>2</th>\n",
              "      <td>Loja 3</td>\n",
              "      <td>2.0</td>\n",
              "      <td>4.0</td>\n",
              "      <td>3.0</td>\n",
              "      <td>2.8</td>\n",
              "    </tr>\n",
              "  </tbody>\n",
              "</table>\n",
              "</div>"
            ],
            "text/plain": [
              "     Loja  Pontos Faturamento  Pontos Avaliação  Pontos Frete  Pontuação Total\n",
              "3  Loja 4                 1.0               2.0           4.0              1.9\n",
              "0  Loja 1                 4.0               1.0           1.0              2.5\n",
              "1  Loja 2                 3.0               3.0           2.0              2.8\n",
              "2  Loja 3                 2.0               4.0           3.0              2.8"
            ]
          },
          "metadata": {},
          "output_type": "display_data"
        },
        {
          "data": {
            "text/markdown": [
              "**A loja com menor desempenho geral é a Loja 4.**"
            ],
            "text/plain": [
              "<IPython.core.display.Markdown object>"
            ]
          },
          "metadata": {},
          "output_type": "display_data"
        }
      ],
      "source": [
        "# Criando um DataFrame para pontuação de desempenho\n",
        "lojas = ['Loja 1', 'Loja 2', 'Loja 3', 'Loja 4']\n",
        "desempenho_df = pd.DataFrame({'Loja': lojas})\n",
        "\n",
        "# Pontuação para faturamento (maior é melhor)\n",
        "faturamento_ordenado = faturamento_df.sort_values('Faturamento Total', ascending=False)\n",
        "for i, loja in enumerate(lojas):\n",
        "    posicao = faturamento_ordenado['Loja'].tolist().index(loja)\n",
        "    desempenho_df.loc[desempenho_df['Loja'] == loja, 'Pontos Faturamento'] = 4 - posicao\n",
        "\n",
        "# Pontuação para avaliação (maior é melhor)\n",
        "avaliacao_ordenada = avaliacao_df.sort_values('Média de Avaliação', ascending=False)\n",
        "for i, loja in enumerate(lojas):\n",
        "    posicao = avaliacao_ordenada['Loja'].tolist().index(loja)\n",
        "    desempenho_df.loc[desempenho_df['Loja'] == loja, 'Pontos Avaliação'] = 4 - posicao\n",
        "\n",
        "# Pontuação para frete (menor é melhor)\n",
        "frete_ordenado = frete_df.sort_values('Frete Médio')\n",
        "for i, loja in enumerate(lojas):\n",
        "    posicao = frete_ordenado['Loja'].tolist().index(loja)\n",
        "    desempenho_df.loc[desempenho_df['Loja'] == loja, 'Pontos Frete'] = 4 - posicao\n",
        "\n",
        "# Calculando a pontuação total com pesos diferentes\n",
        "desempenho_df['Pontuação Total'] = (\n",
        "    desempenho_df['Pontos Faturamento'] * 0.5 +  # Peso maior para faturamento\n",
        "    desempenho_df['Pontos Avaliação'] * 0.3 +    # Peso médio para avaliação\n",
        "    desempenho_df['Pontos Frete'] * 0.2          # Peso menor para frete\n",
        ")\n",
        "\n",
        "# Ordenando pelo desempenho geral (do pior para o melhor)\n",
        "desempenho_df = desempenho_df.sort_values('Pontuação Total')\n",
        "\n",
        "# Exibindo os resultados\n",
        "display(Markdown(\"### Análise de Desempenho das Lojas:\"))\n",
        "display(desempenho_df)\n",
        "\n",
        "# Identificando a loja com menor desempenho\n",
        "loja_menor_desempenho = desempenho_df.iloc[0]['Loja']\n",
        "display(Markdown(f\"**A loja com menor desempenho geral é a {loja_menor_desempenho}.**\"))"
      ]
    },
    {
      "cell_type": "code",
      "execution_count": 17,
      "metadata": {
        "id": "Ej2Ql5Yz5678"
      },
      "outputs": [
        {
          "data": {
            "text/markdown": [
              "### Justificativa:"
            ],
            "text/plain": [
              "<IPython.core.display.Markdown object>"
            ]
          },
          "metadata": {},
          "output_type": "display_data"
        },
        {
          "data": {
            "text/markdown": [
              "- **Faturamento:** A Loja 4 tem o menor faturamento total (R$ 1,384,497.58)."
            ],
            "text/plain": [
              "<IPython.core.display.Markdown object>"
            ]
          },
          "metadata": {},
          "output_type": "display_data"
        },
        {
          "data": {
            "text/markdown": [
              "- **Avaliação:** A Loja 1 tem a menor média de avaliação dos clientes (3.98)."
            ],
            "text/plain": [
              "<IPython.core.display.Markdown object>"
            ]
          },
          "metadata": {},
          "output_type": "display_data"
        },
        {
          "data": {
            "text/markdown": [
              "- **Frete:** A Loja 1 tem o maior custo médio de frete (R$ 34.69)."
            ],
            "text/plain": [
              "<IPython.core.display.Markdown object>"
            ]
          },
          "metadata": {},
          "output_type": "display_data"
        }
      ],
      "source": [
        "# Justificativa\n",
        "display(Markdown(\"### Justificativa:\"))\n",
        "display(Markdown(f\"- **Faturamento:** A {faturamento_ordenado.iloc[-1]['Loja']} tem o menor faturamento total (R$ {faturamento_ordenado.iloc[-1]['Faturamento Total']:,.2f}).\"))\n",
        "display(Markdown(f\"- **Avaliação:** A {avaliacao_ordenada.iloc[-1]['Loja']} tem a menor média de avaliação dos clientes ({avaliacao_ordenada.iloc[-1]['Média de Avaliação']:.2f}).\"))\n",
        "display(Markdown(f\"- **Frete:** A {frete_ordenado.iloc[-1]['Loja']} tem o maior custo médio de frete (R$ {frete_ordenado.iloc[-1]['Frete Médio']:.2f}).\"))"
      ]
    },
    {
      "cell_type": "code",
      "execution_count": 18,
      "metadata": {
        "id": "Ej2Ql5Yz9012"
      },
      "outputs": [
        {
          "data": {
            "image/png": "[encoded data removed]",
            "text/plain": [
              "<Figure size 1200x800 with 1 Axes>"
            ]
          },
          "metadata": {},
          "output_type": "display_data"
        }
      ],
      "source": [
        "# Criando o gráfico comparativo final\n",
        "# Normalizando os dados para comparação justa\n",
        "metricas_df = pd.DataFrame({\n",
        "    'Loja': faturamento_df['Loja'],\n",
        "    'Faturamento': faturamento_df['Faturamento Total'] / faturamento_df['Faturamento Total'].max(),\n",
        "    'Avaliação': avaliacao_df['Média de Avaliação'] / avaliacao_df['Média de Avaliação'].max(),\n",
        "    'Frete': 1 - (frete_df['Frete Médio'] / frete_df['Frete Médio'].max())  # Invertendo para que menor frete seja melhor\n",
        "})\n",
        "\n",
        "# Reorganizando os dados para o formato longo\n",
        "metricas_long = pd.melt(metricas_df, \n",
        "                        id_vars=['Loja'], \n",
        "                        value_vars=['Faturamento', 'Avaliação', 'Frete'],\n",
        "                        var_name='Métrica', \n",
        "                        value_name='Valor Normalizado')\n",
        "\n",
        "plt.figure(figsize=(12, 8))\n",
        "ax = sns.lineplot(x='Métrica', y='Valor Normalizado', hue='Loja', \n",
        "                 data=metricas_long, marker='o', markersize=10, linewidth=2)\n",
        "\n",
        "plt.title('Comparação de Desempenho entre Lojas (Valores Normalizados)', fontsize=16)\n",
        "plt.xlabel('Métrica', fontsize=12)\n",
        "plt.ylabel('Valor Normalizado (0-1)', fontsize=12)\n",
        "plt.ylim(0.9, 1.01)  # Ajustando para melhor visualização das diferenças\n",
        "plt.legend(title='Loja', loc='lower right')\n",
        "plt.grid(True)\n",
        "plt.tight_layout()\n",
        "plt.show()"
      ]
    },
    {
      "cell_type": "markdown",
      "metadata": {
        "id": "Ej2Ql5Yz3456"
      },
      "source": [
        "## Conclusão Final\n",
        "\n",
        "Com base na análise de todas as métricas, a **Loja 4** apresenta o menor desempenho geral e deve ser considerada para venda pelo Sr. João.\n",
        "\n",
        "Esta conclusão é baseada principalmente no fato de que esta loja tem o menor faturamento total, que é a métrica mais importante para o negócio. Embora a Loja 1 tenha a menor média de avaliação dos clientes e o maior custo médio de frete, o faturamento foi considerado como o fator mais relevante na análise, com peso de 50% na pontuação final.\n",
        "\n",
        "A análise comparativa mostra claramente que a Loja 4 tem desempenho inferior em termos de faturamento, o que impacta significativamente sua pontuação geral. Portanto, recomenda-se que o Sr. João venda esta loja para investir em um novo negócio."
      ]
    }
  ],
  "metadata": {
    "colab": {
      "provenance": []
    },
    "kernelspec": {
      "display_name": "base",
      "language": "python",
      "name": "python3"
    },
    "language_info": {
      "codemirror_mode": {
        "name": "ipython",
        "version": 3
      },
      "file_extension": ".py",
      "mimetype": "text/x-python",
      "name": "python",
      "nbconvert_exporter": "python",
      "pygments_lexer": "ipython3",
      "version": "3.12.7"
    }
  },
  "nbformat": 4,
  "nbformat_minor": 0
}
