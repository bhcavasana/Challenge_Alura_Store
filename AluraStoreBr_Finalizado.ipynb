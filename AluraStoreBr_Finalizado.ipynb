{
  "cells": [
    {
      "cell_type": "markdown",
      "metadata": {
        "id": "RhEdWd9YUR6H"
      },
      "source": [
        "### Importação dos dados\n",
        "\n"
      ]
    },
    {
      "cell_type": "code",
      "execution_count": 1,
      "metadata": {
        "id": "T3EvaeQ_INIL"
      },
      "outputs": [
        {
          "data": {
            "application/vnd.microsoft.datawrangler.viewer.v0+json": {
              "columns": [
                {
                  "name": "index",
                  "rawType": "int64",
                  "type": "integer"
                },
                {
                  "name": "Produto",
                  "rawType": "object",
                  "type": "string"
                },
                {
                  "name": "Categoria do Produto",
                  "rawType": "object",
                  "type": "string"
                },
                {
                  "name": "Preço",
                  "rawType": "float64",
                  "type": "float"
                },
                {
                  "name": "Frete",
                  "rawType": "float64",
                  "type": "float"
                },
                {
                  "name": "Data da Compra",
                  "rawType": "object",
                  "type": "string"
                },
                {
                  "name": "Vendedor",
                  "rawType": "object",
                  "type": "string"
                },
                {
                  "name": "Local da compra",
                  "rawType": "object",
                  "type": "string"
                },
                {
                  "name": "Avaliação da compra",
                  "rawType": "int64",
                  "type": "integer"
                },
                {
                  "name": "Tipo de pagamento",
                  "rawType": "object",
                  "type": "string"
                },
                {
                  "name": "Quantidade de parcelas",
                  "rawType": "int64",
                  "type": "integer"
                },
                {
                  "name": "lat",
                  "rawType": "float64",
                  "type": "float"
                },
                {
                  "name": "lon",
                  "rawType": "float64",
                  "type": "float"
                },
                {
                  "name": "Loja",
                  "rawType": "object",
                  "type": "string"
                }
              ],
              "conversionMethod": "pd.DataFrame",
              "ref": "f926588b-368a-450f-b23f-80d7df27edc1",
              "rows": [
                [
                  "0",
                  "Assistente virtual",
                  "eletronicos",
                  "219.08",
                  "9.2497899853",
                  "16/01/2021",
                  "Pedro Gomes",
                  "SP",
                  "4",
                  "cartao_credito",
                  "8",
                  "-22.19",
                  "-48.79",
                  "Loja 1"
                ],
                [
                  "1",
                  "Mesa de jantar",
                  "moveis",
                  "256.35",
                  "11.2343053621",
                  "18/05/2022",
                  "Beatriz Moraes",
                  "RJ",
                  "1",
                  "cartao_credito",
                  "4",
                  "-22.25",
                  "-42.66",
                  "Loja 1"
                ],
                [
                  "2",
                  "Jogo de tabuleiro",
                  "brinquedos",
                  "279.51",
                  "21.2626809863",
                  "15/03/2021",
                  "João Souza",
                  "DF",
                  "1",
                  "cartao_credito",
                  "1",
                  "-15.83",
                  "-47.86",
                  "Loja 1"
                ],
                [
                  "3",
                  "Micro-ondas",
                  "eletrodomesticos",
                  "1009.99",
                  "54.6673442173",
                  "03/05/2022",
                  "João Souza",
                  "RS",
                  "4",
                  "boleto",
                  "1",
                  "-30.17",
                  "-53.5",
                  "Loja 1"
                ],
                [
                  "4",
                  "Cadeira de escritório",
                  "moveis",
                  "446.99",
                  "26.9646890964",
                  "07/11/2020",
                  "Larissa Alves",
                  "MG",
                  "5",
                  "boleto",
                  "1",
                  "-18.1",
                  "-44.38",
                  "Loja 1"
                ]
              ],
              "shape": {
                "columns": 13,
                "rows": 5
              }
            },
            "text/html": [
              "<div>\n",
              "<style scoped>\n",
              "    .dataframe tbody tr th:only-of-type {\n",
              "        vertical-align: middle;\n",
              "    }\n",
              "\n",
              "    .dataframe tbody tr th {\n",
              "        vertical-align: top;\n",
              "    }\n",
              "\n",
              "    .dataframe thead th {\n",
              "        text-align: right;\n",
              "    }\n",
              "</style>\n",
              "<table border=\"1\" class=\"dataframe\">\n",
              "  <thead>\n",
              "    <tr style=\"text-align: right;\">\n",
              "      <th></th>\n",
              "      <th>Produto</th>\n",
              "      <th>Categoria do Produto</th>\n",
              "      <th>Preço</th>\n",
              "      <th>Frete</th>\n",
              "      <th>Data da Compra</th>\n",
              "      <th>Vendedor</th>\n",
              "      <th>Local da compra</th>\n",
              "      <th>Avaliação da compra</th>\n",
              "      <th>Tipo de pagamento</th>\n",
              "      <th>Quantidade de parcelas</th>\n",
              "      <th>lat</th>\n",
              "      <th>lon</th>\n",
              "      <th>Loja</th>\n",
              "    </tr>\n",
              "  </thead>\n",
              "  <tbody>\n",
              "    <tr>\n",
              "      <th>0</th>\n",
              "      <td>Assistente virtual</td>\n",
              "      <td>eletronicos</td>\n",
              "      <td>219.08</td>\n",
              "      <td>9.249790</td>\n",
              "      <td>16/01/2021</td>\n",
              "      <td>Pedro Gomes</td>\n",
              "      <td>SP</td>\n",
              "      <td>4</td>\n",
              "      <td>cartao_credito</td>\n",
              "      <td>8</td>\n",
              "      <td>-22.19</td>\n",
              "      <td>-48.79</td>\n",
              "      <td>Loja 1</td>\n",
              "    </tr>\n",
              "    <tr>\n",
              "      <th>1</th>\n",
              "      <td>Mesa de jantar</td>\n",
              "      <td>moveis</td>\n",
              "      <td>256.35</td>\n",
              "      <td>11.234305</td>\n",
              "      <td>18/05/2022</td>\n",
              "      <td>Beatriz Moraes</td>\n",
              "      <td>RJ</td>\n",
              "      <td>1</td>\n",
              "      <td>cartao_credito</td>\n",
              "      <td>4</td>\n",
              "      <td>-22.25</td>\n",
              "      <td>-42.66</td>\n",
              "      <td>Loja 1</td>\n",
              "    </tr>\n",
              "    <tr>\n",
              "      <th>2</th>\n",
              "      <td>Jogo de tabuleiro</td>\n",
              "      <td>brinquedos</td>\n",
              "      <td>279.51</td>\n",
              "      <td>21.262681</td>\n",
              "      <td>15/03/2021</td>\n",
              "      <td>João Souza</td>\n",
              "      <td>DF</td>\n",
              "      <td>1</td>\n",
              "      <td>cartao_credito</td>\n",
              "      <td>1</td>\n",
              "      <td>-15.83</td>\n",
              "      <td>-47.86</td>\n",
              "      <td>Loja 1</td>\n",
              "    </tr>\n",
              "    <tr>\n",
              "      <th>3</th>\n",
              "      <td>Micro-ondas</td>\n",
              "      <td>eletrodomesticos</td>\n",
              "      <td>1009.99</td>\n",
              "      <td>54.667344</td>\n",
              "      <td>03/05/2022</td>\n",
              "      <td>João Souza</td>\n",
              "      <td>RS</td>\n",
              "      <td>4</td>\n",
              "      <td>boleto</td>\n",
              "      <td>1</td>\n",
              "      <td>-30.17</td>\n",
              "      <td>-53.50</td>\n",
              "      <td>Loja 1</td>\n",
              "    </tr>\n",
              "    <tr>\n",
              "      <th>4</th>\n",
              "      <td>Cadeira de escritório</td>\n",
              "      <td>moveis</td>\n",
              "      <td>446.99</td>\n",
              "      <td>26.964689</td>\n",
              "      <td>07/11/2020</td>\n",
              "      <td>Larissa Alves</td>\n",
              "      <td>MG</td>\n",
              "      <td>5</td>\n",
              "      <td>boleto</td>\n",
              "      <td>1</td>\n",
              "      <td>-18.10</td>\n",
              "      <td>-44.38</td>\n",
              "      <td>Loja 1</td>\n",
              "    </tr>\n",
              "  </tbody>\n",
              "</table>\n",
              "</div>"
            ],
            "text/plain": [
              "                 Produto Categoria do Produto    Preço      Frete  \\\n",
              "0     Assistente virtual          eletronicos   219.08   9.249790   \n",
              "1         Mesa de jantar               moveis   256.35  11.234305   \n",
              "2      Jogo de tabuleiro           brinquedos   279.51  21.262681   \n",
              "3            Micro-ondas     eletrodomesticos  1009.99  54.667344   \n",
              "4  Cadeira de escritório               moveis   446.99  26.964689   \n",
              "\n",
              "  Data da Compra        Vendedor Local da compra  Avaliação da compra  \\\n",
              "0     16/01/2021     Pedro Gomes              SP                    4   \n",
              "1     18/05/2022  Beatriz Moraes              RJ                    1   \n",
              "2     15/03/2021      João Souza              DF                    1   \n",
              "3     03/05/2022      João Souza              RS                    4   \n",
              "4     07/11/2020   Larissa Alves              MG                    5   \n",
              "\n",
              "  Tipo de pagamento  Quantidade de parcelas    lat    lon    Loja  \n",
              "0    cartao_credito                       8 -22.19 -48.79  Loja 1  \n",
              "1    cartao_credito                       4 -22.25 -42.66  Loja 1  \n",
              "2    cartao_credito                       1 -15.83 -47.86  Loja 1  \n",
              "3            boleto                       1 -30.17 -53.50  Loja 1  \n",
              "4            boleto                       1 -18.10 -44.38  Loja 1  "
            ]
          },
          "execution_count": 1,
          "metadata": {},
          "output_type": "execute_result"
        }
      ],
      "source": [
        "import pandas as pd\n",
        "import matplotlib.pyplot as plt\n",
        "import seaborn as sns\n",
        "import numpy as np\n",
        "from IPython.display import display, Markdown\n",
        "\n",
        "# Configurações para melhorar a visualização dos gráficos\n",
        "plt.style.use('seaborn-v0_8-whitegrid')\n",
        "plt.rcParams['figure.figsize'] = (12, 6)\n",
        "plt.rcParams['font.size'] = 12\n",
        "\n",
        "# URLs dos arquivos CSV\n",
        "url1 = \"https://raw.githubusercontent.com/alura-es-cursos/challenge1-data-science/refs/heads/main/base-de-dados-challenge-1/loja_1.csv\"\n",
        "url2 = \"https://raw.githubusercontent.com/alura-es-cursos/challenge1-data-science/refs/heads/main/base-de-dados-challenge-1/loja_2.csv\"\n",
        "url3 = \"https://raw.githubusercontent.com/alura-es-cursos/challenge1-data-science/refs/heads/main/base-de-dados-challenge-1/loja_3.csv\"\n",
        "url4 = \"https://raw.githubusercontent.com/alura-es-cursos/challenge1-data-science/refs/heads/main/base-de-dados-challenge-1/loja_4.csv\"\n",
        "\n",
        "# Carregando os dados\n",
        "loja1 = pd.read_csv(url1)\n",
        "loja2 = pd.read_csv(url2)\n",
        "loja3 = pd.read_csv(url3)\n",
        "loja4 = pd.read_csv(url4)\n",
        "\n",
        "# Adicionando identificador de loja em cada DataFrame\n",
        "loja1['Loja'] = 'Loja 1'\n",
        "loja2['Loja'] = 'Loja 2'\n",
        "loja3['Loja'] = 'Loja 3'\n",
        "loja4['Loja'] = 'Loja 4'\n",
        "\n",
        "# Exibindo as primeiras linhas da Loja 1 para verificar a estrutura dos dados\n",
        "loja1.head()"
      ]
    },
    {
      "cell_type": "markdown",
      "metadata": {
        "id": "X62IW3KFUIYm"
      },
      "source": [
        "# 1. Análise do faturamento\n"
      ]
    },
    {
      "cell_type": "code",
      "execution_count": 2,
      "metadata": {
        "id": "xykobSftV64I"
      },
      "outputs": [
        {
          "data": {
            "text/markdown": [
              "### Faturamento Total por Loja:"
            ],
            "text/plain": [
              "<IPython.core.display.Markdown object>"
            ]
          },
          "metadata": {},
          "output_type": "display_data"
        },
        {
          "data": {
            "application/vnd.microsoft.datawrangler.viewer.v0+json": {
              "columns": [
                {
                  "name": "index",
                  "rawType": "int64",
                  "type": "integer"
                },
                {
                  "name": "Loja",
                  "rawType": "object",
                  "type": "string"
                },
                {
                  "name": "Faturamento Total",
                  "rawType": "float64",
                  "type": "float"
                }
              ],
              "conversionMethod": "pd.DataFrame",
              "ref": "3a2fd890-123e-401f-a580-05b5d0235886",
              "rows": [
                [
                  "0",
                  "Loja 1",
                  "1534509.12"
                ],
                [
                  "1",
                  "Loja 2",
                  "1488459.06"
                ],
                [
                  "2",
                  "Loja 3",
                  "1464025.03"
                ],
                [
                  "3",
                  "Loja 4",
                  "1384497.58"
                ]
              ],
              "shape": {
                "columns": 2,
                "rows": 4
              }
            },
            "text/html": [
              "<div>\n",
              "<style scoped>\n",
              "    .dataframe tbody tr th:only-of-type {\n",
              "        vertical-align: middle;\n",
              "    }\n",
              "\n",
              "    .dataframe tbody tr th {\n",
              "        vertical-align: top;\n",
              "    }\n",
              "\n",
              "    .dataframe thead th {\n",
              "        text-align: right;\n",
              "    }\n",
              "</style>\n",
              "<table border=\"1\" class=\"dataframe\">\n",
              "  <thead>\n",
              "    <tr style=\"text-align: right;\">\n",
              "      <th></th>\n",
              "      <th>Loja</th>\n",
              "      <th>Faturamento Total</th>\n",
              "    </tr>\n",
              "  </thead>\n",
              "  <tbody>\n",
              "    <tr>\n",
              "      <th>0</th>\n",
              "      <td>Loja 1</td>\n",
              "      <td>1534509.12</td>\n",
              "    </tr>\n",
              "    <tr>\n",
              "      <th>1</th>\n",
              "      <td>Loja 2</td>\n",
              "      <td>1488459.06</td>\n",
              "    </tr>\n",
              "    <tr>\n",
              "      <th>2</th>\n",
              "      <td>Loja 3</td>\n",
              "      <td>1464025.03</td>\n",
              "    </tr>\n",
              "    <tr>\n",
              "      <th>3</th>\n",
              "      <td>Loja 4</td>\n",
              "      <td>1384497.58</td>\n",
              "    </tr>\n",
              "  </tbody>\n",
              "</table>\n",
              "</div>"
            ],
            "text/plain": [
              "     Loja  Faturamento Total\n",
              "0  Loja 1         1534509.12\n",
              "1  Loja 2         1488459.06\n",
              "2  Loja 3         1464025.03\n",
              "3  Loja 4         1384497.58"
            ]
          },
          "metadata": {},
          "output_type": "display_data"
        }
      ],
      "source": [
        "# Calculando o faturamento total de cada loja (Preço * Quantidade)\n",
        "# Assumindo que cada linha representa uma venda de um produto\n",
        "faturamento_loja1 = loja1['Preço'].sum()\n",
        "faturamento_loja2 = loja2['Preço'].sum()\n",
        "faturamento_loja3 = loja3['Preço'].sum()\n",
        "faturamento_loja4 = loja4['Preço'].sum()\n",
        "\n",
        "# Criando um DataFrame com os resultados\n",
        "faturamento_df = pd.DataFrame({\n",
        "    'Loja': ['Loja 1', 'Loja 2', 'Loja 3', 'Loja 4'],\n",
        "    'Faturamento Total': [faturamento_loja1, faturamento_loja2, faturamento_loja3, faturamento_loja4]\n",
        "})\n",
        "\n",
        "# Ordenando por faturamento\n",
        "faturamento_df = faturamento_df.sort_values('Faturamento Total', ascending=False)\n",
        "\n",
        "# Exibindo os resultados\n",
        "display(Markdown(\"### Faturamento Total por Loja:\"))\n",
        "display(faturamento_df)"
      ]
    },
    {
      "cell_type": "code",
      "execution_count": 20,
      "metadata": {
        "id": "KDyr8E71V3m-"
      },
      "outputs": [
        {
          "data": {
            "image/png": "[encoded data removed]",
            "text/plain": [
              "<Figure size 1200x600 with 1 Axes>"
            ]
          },
          "metadata": {},
          "output_type": "display_data"
        }
      ],
      "source": [
        "# Criando um gráfico de barras para visualizar o faturamento\n",
        "plt.figure(figsize=(12, 6))\n",
        "ax = sns.barplot(x='Loja', y='Faturamento Total', data=faturamento_df, alpha=0.8)\n",
        "plt.title('Faturamento Total por Loja', fontsize=16)\n",
        "plt.xlabel('Loja', fontsize=12)\n",
        "plt.ylabel('Faturamento (R$)', fontsize=12)\n",
        "\n",
        "# Adicionando os valores nas barras\n",
        "for i, valor in enumerate(faturamento_df['Faturamento Total']):\n",
        "    ax.text(i, valor + 10000, f'R$ {valor:,.2f}', ha='center', fontsize=10)\n",
        "\n",
        "plt.tight_layout()\n",
        "plt.show()"
      ]
    },
    {
      "cell_type": "markdown",
      "metadata": {
        "id": "2V_vcAPzWZmR"
      },
      "source": [
        "# 2. Vendas por Categoria\n"
      ]
    },
    {
      "cell_type": "code",
      "execution_count": 4,
      "metadata": {
        "id": "A34YupIuYhfF"
      },
      "outputs": [
        {
          "data": {
            "text/markdown": [
              "### Categorias mais populares por loja:"
            ],
            "text/plain": [
              "<IPython.core.display.Markdown object>"
            ]
          },
          "metadata": {},
          "output_type": "display_data"
        }
      ],
      "source": [
        "# Analisando as categorias mais populares por loja\n",
        "categorias_loja1 = loja1['Categoria do Produto'].value_counts().reset_index()\n",
        "categorias_loja1.columns = ['Categoria', 'Quantidade']\n",
        "categorias_loja1['Loja'] = 'Loja 1'\n",
        "\n",
        "categorias_loja2 = loja2['Categoria do Produto'].value_counts().reset_index()\n",
        "categorias_loja2.columns = ['Categoria', 'Quantidade']\n",
        "categorias_loja2['Loja'] = 'Loja 2'\n",
        "\n",
        "categorias_loja3 = loja3['Categoria do Produto'].value_counts().reset_index()\n",
        "categorias_loja3.columns = ['Categoria', 'Quantidade']\n",
        "categorias_loja3['Loja'] = 'Loja 3'\n",
        "\n",
        "categorias_loja4 = loja4['Categoria do Produto'].value_counts().reset_index()\n",
        "categorias_loja4.columns = ['Categoria', 'Quantidade']\n",
        "categorias_loja4['Loja'] = 'Loja 4'\n",
        "\n",
        "# Combinando os resultados\n",
        "categorias_df = pd.concat([categorias_loja1, categorias_loja2, categorias_loja3, categorias_loja4])\n",
        "\n",
        "# Exibindo as categorias mais populares por loja\n",
        "display(Markdown(\"### Categorias mais populares por loja:\"))"
      ]
    },
    {
      "cell_type": "code",
      "execution_count": 5,
      "metadata": {
        "id": "yZR6cOjXYSk1"
      },
      "outputs": [
        {
          "data": {
            "text/markdown": [
              "**Loja 1:**"
            ],
            "text/plain": [
              "<IPython.core.display.Markdown object>"
            ]
          },
          "metadata": {},
          "output_type": "display_data"
        },
        {
          "data": {
            "application/vnd.microsoft.datawrangler.viewer.v0+json": {
              "columns": [
                {
                  "name": "index",
                  "rawType": "int64",
                  "type": "integer"
                },
                {
                  "name": "Categoria",
                  "rawType": "object",
                  "type": "string"
                },
                {
                  "name": "Quantidade",
                  "rawType": "int64",
                  "type": "integer"
                }
              ],
              "conversionMethod": "pd.DataFrame",
              "ref": "07d001ff-8f60-4af7-afd8-fcf320cb7098",
              "rows": [
                [
                  "0",
                  "moveis",
                  "465"
                ],
                [
                  "1",
                  "eletronicos",
                  "448"
                ],
                [
                  "2",
                  "brinquedos",
                  "324"
                ]
              ],
              "shape": {
                "columns": 2,
                "rows": 3
              }
            },
            "text/html": [
              "<div>\n",
              "<style scoped>\n",
              "    .dataframe tbody tr th:only-of-type {\n",
              "        vertical-align: middle;\n",
              "    }\n",
              "\n",
              "    .dataframe tbody tr th {\n",
              "        vertical-align: top;\n",
              "    }\n",
              "\n",
              "    .dataframe thead th {\n",
              "        text-align: right;\n",
              "    }\n",
              "</style>\n",
              "<table border=\"1\" class=\"dataframe\">\n",
              "  <thead>\n",
              "    <tr style=\"text-align: right;\">\n",
              "      <th></th>\n",
              "      <th>Categoria</th>\n",
              "      <th>Quantidade</th>\n",
              "    </tr>\n",
              "  </thead>\n",
              "  <tbody>\n",
              "    <tr>\n",
              "      <th>0</th>\n",
              "      <td>moveis</td>\n",
              "      <td>465</td>\n",
              "    </tr>\n",
              "    <tr>\n",
              "      <th>1</th>\n",
              "      <td>eletronicos</td>\n",
              "      <td>448</td>\n",
              "    </tr>\n",
              "    <tr>\n",
              "      <th>2</th>\n",
              "      <td>brinquedos</td>\n",
              "      <td>324</td>\n",
              "    </tr>\n",
              "  </tbody>\n",
              "</table>\n",
              "</div>"
            ],
            "text/plain": [
              "     Categoria  Quantidade\n",
              "0       moveis         465\n",
              "1  eletronicos         448\n",
              "2   brinquedos         324"
            ]
          },
          "metadata": {},
          "output_type": "display_data"
        },
        {
          "data": {
            "text/markdown": [
              "**Loja 2:**"
            ],
            "text/plain": [
              "<IPython.core.display.Markdown object>"
            ]
          },
          "metadata": {},
          "output_type": "display_data"
        },
        {
          "data": {
            "application/vnd.microsoft.datawrangler.viewer.v0+json": {
              "columns": [
                {
                  "name": "index",
                  "rawType": "int64",
                  "type": "integer"
                },
                {
                  "name": "Categoria",
                  "rawType": "object",
                  "type": "string"
                },
                {
                  "name": "Quantidade",
                  "rawType": "int64",
                  "type": "integer"
                }
              ],
              "conversionMethod": "pd.DataFrame",
              "ref": "169146f6-3a0e-41e2-92d2-46e6471a6fc4",
              "rows": [
                [
                  "0",
                  "moveis",
                  "442"
                ],
                [
                  "1",
                  "eletronicos",
                  "422"
                ],
                [
                  "2",
                  "brinquedos",
                  "313"
                ]
              ],
              "shape": {
                "columns": 2,
                "rows": 3
              }
            },
            "text/html": [
              "<div>\n",
              "<style scoped>\n",
              "    .dataframe tbody tr th:only-of-type {\n",
              "        vertical-align: middle;\n",
              "    }\n",
              "\n",
              "    .dataframe tbody tr th {\n",
              "        vertical-align: top;\n",
              "    }\n",
              "\n",
              "    .dataframe thead th {\n",
              "        text-align: right;\n",
              "    }\n",
              "</style>\n",
              "<table border=\"1\" class=\"dataframe\">\n",
              "  <thead>\n",
              "    <tr style=\"text-align: right;\">\n",
              "      <th></th>\n",
              "      <th>Categoria</th>\n",
              "      <th>Quantidade</th>\n",
              "    </tr>\n",
              "  </thead>\n",
              "  <tbody>\n",
              "    <tr>\n",
              "      <th>0</th>\n",
              "      <td>moveis</td>\n",
              "      <td>442</td>\n",
              "    </tr>\n",
              "    <tr>\n",
              "      <th>1</th>\n",
              "      <td>eletronicos</td>\n",
              "      <td>422</td>\n",
              "    </tr>\n",
              "    <tr>\n",
              "      <th>2</th>\n",
              "      <td>brinquedos</td>\n",
              "      <td>313</td>\n",
              "    </tr>\n",
              "  </tbody>\n",
              "</table>\n",
              "</div>"
            ],
            "text/plain": [
              "     Categoria  Quantidade\n",
              "0       moveis         442\n",
              "1  eletronicos         422\n",
              "2   brinquedos         313"
            ]
          },
          "metadata": {},
          "output_type": "display_data"
        },
        {
          "data": {
            "text/markdown": [
              "**Loja 3:**"
            ],
            "text/plain": [
              "<IPython.core.display.Markdown object>"
            ]
          },
          "metadata": {},
          "output_type": "display_data"
        },
        {
          "data": {
            "application/vnd.microsoft.datawrangler.viewer.v0+json": {
              "columns": [
                {
                  "name": "index",
                  "rawType": "int64",
                  "type": "integer"
                },
                {
                  "name": "Categoria",
                  "rawType": "object",
                  "type": "string"
                },
                {
                  "name": "Quantidade",
                  "rawType": "int64",
                  "type": "integer"
                }
              ],
              "conversionMethod": "pd.DataFrame",
              "ref": "a08c49c2-a1fd-40d2-b1b0-62106edcd7af",
              "rows": [
                [
                  "0",
                  "moveis",
                  "499"
                ],
                [
                  "1",
                  "eletronicos",
                  "451"
                ],
                [
                  "2",
                  "brinquedos",
                  "315"
                ]
              ],
              "shape": {
                "columns": 2,
                "rows": 3
              }
            },
            "text/html": [
              "<div>\n",
              "<style scoped>\n",
              "    .dataframe tbody tr th:only-of-type {\n",
              "        vertical-align: middle;\n",
              "    }\n",
              "\n",
              "    .dataframe tbody tr th {\n",
              "        vertical-align: top;\n",
              "    }\n",
              "\n",
              "    .dataframe thead th {\n",
              "        text-align: right;\n",
              "    }\n",
              "</style>\n",
              "<table border=\"1\" class=\"dataframe\">\n",
              "  <thead>\n",
              "    <tr style=\"text-align: right;\">\n",
              "      <th></th>\n",
              "      <th>Categoria</th>\n",
              "      <th>Quantidade</th>\n",
              "    </tr>\n",
              "  </thead>\n",
              "  <tbody>\n",
              "    <tr>\n",
              "      <th>0</th>\n",
              "      <td>moveis</td>\n",
              "      <td>499</td>\n",
              "    </tr>\n",
              "    <tr>\n",
              "      <th>1</th>\n",
              "      <td>eletronicos</td>\n",
              "      <td>451</td>\n",
              "    </tr>\n",
              "    <tr>\n",
              "      <th>2</th>\n",
              "      <td>brinquedos</td>\n",
              "      <td>315</td>\n",
              "    </tr>\n",
              "  </tbody>\n",
              "</table>\n",
              "</div>"
            ],
            "text/plain": [
              "     Categoria  Quantidade\n",
              "0       moveis         499\n",
              "1  eletronicos         451\n",
              "2   brinquedos         315"
            ]
          },
          "metadata": {},
          "output_type": "display_data"
        },
        {
          "data": {
            "text/markdown": [
              "**Loja 4:**"
            ],
            "text/plain": [
              "<IPython.core.display.Markdown object>"
            ]
          },
          "metadata": {},
          "output_type": "display_data"
        },
        {
          "data": {
            "application/vnd.microsoft.datawrangler.viewer.v0+json": {
              "columns": [
                {
                  "name": "index",
                  "rawType": "int64",
                  "type": "integer"
                },
                {
                  "name": "Categoria",
                  "rawType": "object",
                  "type": "string"
                },
                {
                  "name": "Quantidade",
                  "rawType": "int64",
                  "type": "integer"
                }
              ],
              "conversionMethod": "pd.DataFrame",
              "ref": "cb78c396-29e7-4ef7-bb72-aa9d172062bc",
              "rows": [
                [
                  "0",
                  "moveis",
                  "480"
                ],
                [
                  "1",
                  "eletronicos",
                  "451"
                ],
                [
                  "2",
                  "brinquedos",
                  "338"
                ]
              ],
              "shape": {
                "columns": 2,
                "rows": 3
              }
            },
            "text/html": [
              "<div>\n",
              "<style scoped>\n",
              "    .dataframe tbody tr th:only-of-type {\n",
              "        vertical-align: middle;\n",
              "    }\n",
              "\n",
              "    .dataframe tbody tr th {\n",
              "        vertical-align: top;\n",
              "    }\n",
              "\n",
              "    .dataframe thead th {\n",
              "        text-align: right;\n",
              "    }\n",
              "</style>\n",
              "<table border=\"1\" class=\"dataframe\">\n",
              "  <thead>\n",
              "    <tr style=\"text-align: right;\">\n",
              "      <th></th>\n",
              "      <th>Categoria</th>\n",
              "      <th>Quantidade</th>\n",
              "    </tr>\n",
              "  </thead>\n",
              "  <tbody>\n",
              "    <tr>\n",
              "      <th>0</th>\n",
              "      <td>moveis</td>\n",
              "      <td>480</td>\n",
              "    </tr>\n",
              "    <tr>\n",
              "      <th>1</th>\n",
              "      <td>eletronicos</td>\n",
              "      <td>451</td>\n",
              "    </tr>\n",
              "    <tr>\n",
              "      <th>2</th>\n",
              "      <td>brinquedos</td>\n",
              "      <td>338</td>\n",
              "    </tr>\n",
              "  </tbody>\n",
              "</table>\n",
              "</div>"
            ],
            "text/plain": [
              "     Categoria  Quantidade\n",
              "0       moveis         480\n",
              "1  eletronicos         451\n",
              "2   brinquedos         338"
            ]
          },
          "metadata": {},
          "output_type": "display_data"
        }
      ],
      "source": [
        "# Exibindo as categorias mais populares para cada loja\n",
        "for loja in ['Loja 1', 'Loja 2', 'Loja 3', 'Loja 4']:\n",
        "    display(Markdown(f\"**{loja}:**\"))\n",
        "    top_categorias = categorias_df[categorias_df['Loja'] == loja].sort_values('Quantidade', ascending=False).head(3)\n",
        "    display(top_categorias[['Categoria', 'Quantidade']])"
      ]
    },
    {
      "cell_type": "markdown",
      "metadata": {
        "id": "Rq6tU_xSY3jk"
      },
      "source": [
        "# 3. Média de Avaliação das Lojas"
      ]
    },
    {
      "cell_type": "code",
      "execution_count": 6,
      "metadata": {
        "id": "bh3jjjJwY5MU"
      },
      "outputs": [
        {
          "data": {
            "text/markdown": [
              "### Média de Avaliação dos Clientes por Loja:"
            ],
            "text/plain": [
              "<IPython.core.display.Markdown object>"
            ]
          },
          "metadata": {},
          "output_type": "display_data"
        },
        {
          "data": {
            "application/vnd.microsoft.datawrangler.viewer.v0+json": {
              "columns": [
                {
                  "name": "index",
                  "rawType": "int64",
                  "type": "integer"
                },
                {
                  "name": "Loja",
                  "rawType": "object",
                  "type": "string"
                },
                {
                  "name": "Média de Avaliação",
                  "rawType": "float64",
                  "type": "float"
                }
              ],
              "conversionMethod": "pd.DataFrame",
              "ref": "a4730539-22a0-4d43-a8de-c5da4dbe989e",
              "rows": [
                [
                  "0",
                  "Loja 1",
                  "3.976685036032217"
                ],
                [
                  "3",
                  "Loja 4",
                  "3.9957591178965224"
                ],
                [
                  "1",
                  "Loja 2",
                  "4.037303942348453"
                ],
                [
                  "2",
                  "Loja 3",
                  "4.048325561678677"
                ]
              ],
              "shape": {
                "columns": 2,
                "rows": 4
              }
            },
            "text/html": [
              "<div>\n",
              "<style scoped>\n",
              "    .dataframe tbody tr th:only-of-type {\n",
              "        vertical-align: middle;\n",
              "    }\n",
              "\n",
              "    .dataframe tbody tr th {\n",
              "        vertical-align: top;\n",
              "    }\n",
              "\n",
              "    .dataframe thead th {\n",
              "        text-align: right;\n",
              "    }\n",
              "</style>\n",
              "<table border=\"1\" class=\"dataframe\">\n",
              "  <thead>\n",
              "    <tr style=\"text-align: right;\">\n",
              "      <th></th>\n",
              "      <th>Loja</th>\n",
              "      <th>Média de Avaliação</th>\n",
              "    </tr>\n",
              "  </thead>\n",
              "  <tbody>\n",
              "    <tr>\n",
              "      <th>0</th>\n",
              "      <td>Loja 1</td>\n",
              "      <td>3.976685</td>\n",
              "    </tr>\n",
              "    <tr>\n",
              "      <th>3</th>\n",
              "      <td>Loja 4</td>\n",
              "      <td>3.995759</td>\n",
              "    </tr>\n",
              "    <tr>\n",
              "      <th>1</th>\n",
              "      <td>Loja 2</td>\n",
              "      <td>4.037304</td>\n",
              "    </tr>\n",
              "    <tr>\n",
              "      <th>2</th>\n",
              "      <td>Loja 3</td>\n",
              "      <td>4.048326</td>\n",
              "    </tr>\n",
              "  </tbody>\n",
              "</table>\n",
              "</div>"
            ],
            "text/plain": [
              "     Loja  Média de Avaliação\n",
              "0  Loja 1            3.976685\n",
              "3  Loja 4            3.995759\n",
              "1  Loja 2            4.037304\n",
              "2  Loja 3            4.048326"
            ]
          },
          "metadata": {},
          "output_type": "display_data"
        }
      ],
      "source": [
        "# Calculando a média de avaliação dos clientes por loja\n",
        "avaliacao_loja1 = loja1['Avaliação da compra'].mean()\n",
        "avaliacao_loja2 = loja2['Avaliação da compra'].mean()\n",
        "avaliacao_loja3 = loja3['Avaliação da compra'].mean()\n",
        "avaliacao_loja4 = loja4['Avaliação da compra'].mean()\n",
        "\n",
        "# Criando um DataFrame com os resultados\n",
        "avaliacao_df = pd.DataFrame({\n",
        "    'Loja': ['Loja 1', 'Loja 2', 'Loja 3', 'Loja 4'],\n",
        "    'Média de Avaliação': [avaliacao_loja1, avaliacao_loja2, avaliacao_loja3, avaliacao_loja4]\n",
        "})\n",
        "\n",
        "# Ordenando por média de avaliação (do menor para o maior)\n",
        "avaliacao_df = avaliacao_df.sort_values('Média de Avaliação')\n",
        "\n",
        "# Exibindo os resultados\n",
        "display(Markdown(\"### Média de Avaliação dos Clientes por Loja:\"))\n",
        "display(avaliacao_df)"
      ]
    },
    {
      "cell_type": "code",
      "execution_count": 7,
      "metadata": {
        "id": "I0KkjPoTY88F"
      },
      "outputs": [
        {
          "data": {
            "image/png": "[encoded data removed]",
            "text/plain": [
              "<Figure size 1000x800 with 1 Axes>"
            ]
          },
          "metadata": {},
          "output_type": "display_data"
        }
      ],
      "source": [
        "# Criando um gráfico de pizza para visualizar a distribuição das avaliações\n",
        "plt.figure(figsize=(10, 8))\n",
        "explode = [0.1, 0, 0, 0]  # Destacando a loja com menor avaliação\n",
        "\n",
        "plt.pie(avaliacao_df['Média de Avaliação'], \n",
        "        labels=avaliacao_df['Loja'], \n",
        "        autopct='%1.2f%%',\n",
        "        startangle=90, \n",
        "        explode=explode,\n",
        "        colors=cores,\n",
        "        shadow=True,\n",
        "        wedgeprops={'edgecolor': 'white', 'linewidth': 1})\n",
        "\n",
        "plt.title('Distribuição da Média de Avaliação dos Clientes por Loja', fontsize=16)\n",
        "plt.axis('equal')  # Para garantir que o gráfico seja um círculo\n",
        "plt.tight_layout()\n",
        "plt.show()"
      ]
    },
    {
      "cell_type": "markdown",
      "metadata": {
        "id": "DmNp1KPBZCm-"
      },
      "source": [
        "# 4. Produtos Mais e Menos Vendidos"
      ]
    },
    {
      "cell_type": "code",
      "execution_count": 8,
      "metadata": {
        "id": "qoyjqijQZHfF"
      },
      "outputs": [
        {
          "data": {
            "text/markdown": [
              "### Produtos mais vendidos por loja:"
            ],
            "text/plain": [
              "<IPython.core.display.Markdown object>"
            ]
          },
          "metadata": {},
          "output_type": "display_data"
        },
        {
          "data": {
            "text/markdown": [
              "**Loja 1:**"
            ],
            "text/plain": [
              "<IPython.core.display.Markdown object>"
            ]
          },
          "metadata": {},
          "output_type": "display_data"
        },
        {
          "data": {
            "application/vnd.microsoft.datawrangler.viewer.v0+json": {
              "columns": [
                {
                  "name": "index",
                  "rawType": "int64",
                  "type": "integer"
                },
                {
                  "name": "Produto",
                  "rawType": "object",
                  "type": "string"
                },
                {
                  "name": "Quantidade",
                  "rawType": "int64",
                  "type": "integer"
                }
              ],
              "conversionMethod": "pd.DataFrame",
              "ref": "c415aa0a-6ac3-4848-b056-09d52ea60502",
              "rows": [
                [
                  "0",
                  "TV Led UHD 4K",
                  "60"
                ],
                [
                  "1",
                  "Guarda roupas",
                  "60"
                ],
                [
                  "2",
                  "Micro-ondas",
                  "60"
                ],
                [
                  "3",
                  "Secadora de roupas",
                  "58"
                ],
                [
                  "4",
                  "Blocos de montar",
                  "56"
                ]
              ],
              "shape": {
                "columns": 2,
                "rows": 5
              }
            },
            "text/html": [
              "<div>\n",
              "<style scoped>\n",
              "    .dataframe tbody tr th:only-of-type {\n",
              "        vertical-align: middle;\n",
              "    }\n",
              "\n",
              "    .dataframe tbody tr th {\n",
              "        vertical-align: top;\n",
              "    }\n",
              "\n",
              "    .dataframe thead th {\n",
              "        text-align: right;\n",
              "    }\n",
              "</style>\n",
              "<table border=\"1\" class=\"dataframe\">\n",
              "  <thead>\n",
              "    <tr style=\"text-align: right;\">\n",
              "      <th></th>\n",
              "      <th>Produto</th>\n",
              "      <th>Quantidade</th>\n",
              "    </tr>\n",
              "  </thead>\n",
              "  <tbody>\n",
              "    <tr>\n",
              "      <th>0</th>\n",
              "      <td>TV Led UHD 4K</td>\n",
              "      <td>60</td>\n",
              "    </tr>\n",
              "    <tr>\n",
              "      <th>1</th>\n",
              "      <td>Guarda roupas</td>\n",
              "      <td>60</td>\n",
              "    </tr>\n",
              "    <tr>\n",
              "      <th>2</th>\n",
              "      <td>Micro-ondas</td>\n",
              "      <td>60</td>\n",
              "    </tr>\n",
              "    <tr>\n",
              "      <th>3</th>\n",
              "      <td>Secadora de roupas</td>\n",
              "      <td>58</td>\n",
              "    </tr>\n",
              "    <tr>\n",
              "      <th>4</th>\n",
              "      <td>Blocos de montar</td>\n",
              "      <td>56</td>\n",
              "    </tr>\n",
              "  </tbody>\n",
              "</table>\n",
              "</div>"
            ],
            "text/plain": [
              "              Produto  Quantidade\n",
              "0       TV Led UHD 4K          60\n",
              "1       Guarda roupas          60\n",
              "2         Micro-ondas          60\n",
              "3  Secadora de roupas          58\n",
              "4    Blocos de montar          56"
            ]
          },
          "metadata": {},
          "output_type": "display_data"
        },
        {
          "data": {
            "text/markdown": [
              "**Loja 2:**"
            ],
            "text/plain": [
              "<IPython.core.display.Markdown object>"
            ]
          },
          "metadata": {},
          "output_type": "display_data"
        },
        {
          "data": {
            "application/vnd.microsoft.datawrangler.viewer.v0+json": {
              "columns": [
                {
                  "name": "index",
                  "rawType": "int64",
                  "type": "integer"
                },
                {
                  "name": "Produto",
                  "rawType": "object",
                  "type": "string"
                },
                {
                  "name": "Quantidade",
                  "rawType": "int64",
                  "type": "integer"
                }
              ],
              "conversionMethod": "pd.DataFrame",
              "ref": "421768e7-9cce-4dd4-a892-8b1cecf56d6c",
              "rows": [
                [
                  "0",
                  "Iniciando em programação",
                  "65"
                ],
                [
                  "1",
                  "Micro-ondas",
                  "62"
                ],
                [
                  "2",
                  "Bateria",
                  "61"
                ],
                [
                  "3",
                  "Violão",
                  "58"
                ],
                [
                  "4",
                  "Pandeiro",
                  "58"
                ]
              ],
              "shape": {
                "columns": 2,
                "rows": 5
              }
            },
            "text/html": [
              "<div>\n",
              "<style scoped>\n",
              "    .dataframe tbody tr th:only-of-type {\n",
              "        vertical-align: middle;\n",
              "    }\n",
              "\n",
              "    .dataframe tbody tr th {\n",
              "        vertical-align: top;\n",
              "    }\n",
              "\n",
              "    .dataframe thead th {\n",
              "        text-align: right;\n",
              "    }\n",
              "</style>\n",
              "<table border=\"1\" class=\"dataframe\">\n",
              "  <thead>\n",
              "    <tr style=\"text-align: right;\">\n",
              "      <th></th>\n",
              "      <th>Produto</th>\n",
              "      <th>Quantidade</th>\n",
              "    </tr>\n",
              "  </thead>\n",
              "  <tbody>\n",
              "    <tr>\n",
              "      <th>0</th>\n",
              "      <td>Iniciando em programação</td>\n",
              "      <td>65</td>\n",
              "    </tr>\n",
              "    <tr>\n",
              "      <th>1</th>\n",
              "      <td>Micro-ondas</td>\n",
              "      <td>62</td>\n",
              "    </tr>\n",
              "    <tr>\n",
              "      <th>2</th>\n",
              "      <td>Bateria</td>\n",
              "      <td>61</td>\n",
              "    </tr>\n",
              "    <tr>\n",
              "      <th>3</th>\n",
              "      <td>Violão</td>\n",
              "      <td>58</td>\n",
              "    </tr>\n",
              "    <tr>\n",
              "      <th>4</th>\n",
              "      <td>Pandeiro</td>\n",
              "      <td>58</td>\n",
              "    </tr>\n",
              "  </tbody>\n",
              "</table>\n",
              "</div>"
            ],
            "text/plain": [
              "                    Produto  Quantidade\n",
              "0  Iniciando em programação          65\n",
              "1               Micro-ondas          62\n",
              "2                   Bateria          61\n",
              "3                    Violão          58\n",
              "4                  Pandeiro          58"
            ]
          },
          "metadata": {},
          "output_type": "display_data"
        },
        {
          "data": {
            "text/markdown": [
              "**Loja 3:**"
            ],
            "text/plain": [
              "<IPython.core.display.Markdown object>"
            ]
          },
          "metadata": {},
          "output_type": "display_data"
        },
        {
          "data": {
            "application/vnd.microsoft.datawrangler.viewer.v0+json": {
              "columns": [
                {
                  "name": "index",
                  "rawType": "int64",
                  "type": "integer"
                },
                {
                  "name": "Produto",
                  "rawType": "object",
                  "type": "string"
                },
                {
                  "name": "Quantidade",
                  "rawType": "int64",
                  "type": "integer"
                }
              ],
              "conversionMethod": "pd.DataFrame",
              "ref": "4484b155-7c13-4a7f-99ea-867d09490039",
              "rows": [
                [
                  "0",
                  "Kit banquetas",
                  "57"
                ],
                [
                  "1",
                  "Cama king",
                  "56"
                ],
                [
                  "2",
                  "Mesa de jantar",
                  "56"
                ],
                [
                  "3",
                  "Jogo de panelas",
                  "55"
                ],
                [
                  "4",
                  "Cômoda",
                  "55"
                ]
              ],
              "shape": {
                "columns": 2,
                "rows": 5
              }
            },
            "text/html": [
              "<div>\n",
              "<style scoped>\n",
              "    .dataframe tbody tr th:only-of-type {\n",
              "        vertical-align: middle;\n",
              "    }\n",
              "\n",
              "    .dataframe tbody tr th {\n",
              "        vertical-align: top;\n",
              "    }\n",
              "\n",
              "    .dataframe thead th {\n",
              "        text-align: right;\n",
              "    }\n",
              "</style>\n",
              "<table border=\"1\" class=\"dataframe\">\n",
              "  <thead>\n",
              "    <tr style=\"text-align: right;\">\n",
              "      <th></th>\n",
              "      <th>Produto</th>\n",
              "      <th>Quantidade</th>\n",
              "    </tr>\n",
              "  </thead>\n",
              "  <tbody>\n",
              "    <tr>\n",
              "      <th>0</th>\n",
              "      <td>Kit banquetas</td>\n",
              "      <td>57</td>\n",
              "    </tr>\n",
              "    <tr>\n",
              "      <th>1</th>\n",
              "      <td>Cama king</td>\n",
              "      <td>56</td>\n",
              "    </tr>\n",
              "    <tr>\n",
              "      <th>2</th>\n",
              "      <td>Mesa de jantar</td>\n",
              "      <td>56</td>\n",
              "    </tr>\n",
              "    <tr>\n",
              "      <th>3</th>\n",
              "      <td>Jogo de panelas</td>\n",
              "      <td>55</td>\n",
              "    </tr>\n",
              "    <tr>\n",
              "      <th>4</th>\n",
              "      <td>Cômoda</td>\n",
              "      <td>55</td>\n",
              "    </tr>\n",
              "  </tbody>\n",
              "</table>\n",
              "</div>"
            ],
            "text/plain": [
              "           Produto  Quantidade\n",
              "0    Kit banquetas          57\n",
              "1        Cama king          56\n",
              "2   Mesa de jantar          56\n",
              "3  Jogo de panelas          55\n",
              "4           Cômoda          55"
            ]
          },
          "metadata": {},
          "output_type": "display_data"
        },
        {
          "data": {
            "text/markdown": [
              "**Loja 4:**"
            ],
            "text/plain": [
              "<IPython.core.display.Markdown object>"
            ]
          },
          "metadata": {},
          "output_type": "display_data"
        },
        {
          "data": {
            "application/vnd.microsoft.datawrangler.viewer.v0+json": {
              "columns": [
                {
                  "name": "index",
                  "rawType": "int64",
                  "type": "integer"
                },
                {
                  "name": "Produto",
                  "rawType": "object",
                  "type": "string"
                },
                {
                  "name": "Quantidade",
                  "rawType": "int64",
                  "type": "integer"
                }
              ],
              "conversionMethod": "pd.DataFrame",
              "ref": "08e43958-dc86-403a-8fdc-28fd49cdd1a3",
              "rows": [
                [
                  "0",
                  "Cama box",
                  "62"
                ],
                [
                  "1",
                  "Faqueiro",
                  "59"
                ],
                [
                  "2",
                  "Dashboards com Power BI",
                  "56"
                ],
                [
                  "3",
                  "Cama king",
                  "56"
                ],
                [
                  "4",
                  "Cômoda",
                  "55"
                ]
              ],
              "shape": {
                "columns": 2,
                "rows": 5
              }
            },
            "text/html": [
              "<div>\n",
              "<style scoped>\n",
              "    .dataframe tbody tr th:only-of-type {\n",
              "        vertical-align: middle;\n",
              "    }\n",
              "\n",
              "    .dataframe tbody tr th {\n",
              "        vertical-align: top;\n",
              "    }\n",
              "\n",
              "    .dataframe thead th {\n",
              "        text-align: right;\n",
              "    }\n",
              "</style>\n",
              "<table border=\"1\" class=\"dataframe\">\n",
              "  <thead>\n",
              "    <tr style=\"text-align: right;\">\n",
              "      <th></th>\n",
              "      <th>Produto</th>\n",
              "      <th>Quantidade</th>\n",
              "    </tr>\n",
              "  </thead>\n",
              "  <tbody>\n",
              "    <tr>\n",
              "      <th>0</th>\n",
              "      <td>Cama box</td>\n",
              "      <td>62</td>\n",
              "    </tr>\n",
              "    <tr>\n",
              "      <th>1</th>\n",
              "      <td>Faqueiro</td>\n",
              "      <td>59</td>\n",
              "    </tr>\n",
              "    <tr>\n",
              "      <th>2</th>\n",
              "      <td>Dashboards com Power BI</td>\n",
              "      <td>56</td>\n",
              "    </tr>\n",
              "    <tr>\n",
              "      <th>3</th>\n",
              "      <td>Cama king</td>\n",
              "      <td>56</td>\n",
              "    </tr>\n",
              "    <tr>\n",
              "      <th>4</th>\n",
              "      <td>Cômoda</td>\n",
              "      <td>55</td>\n",
              "    </tr>\n",
              "  </tbody>\n",
              "</table>\n",
              "</div>"
            ],
            "text/plain": [
              "                   Produto  Quantidade\n",
              "0                 Cama box          62\n",
              "1                 Faqueiro          59\n",
              "2  Dashboards com Power BI          56\n",
              "3                Cama king          56\n",
              "4                   Cômoda          55"
            ]
          },
          "metadata": {},
          "output_type": "display_data"
        }
      ],
      "source": [
        "# Analisando os produtos mais vendidos por loja\n",
        "produtos_mais_vendidos_loja1 = loja1['Produto'].value_counts().reset_index().head(5)\n",
        "produtos_mais_vendidos_loja1.columns = ['Produto', 'Quantidade']\n",
        "produtos_mais_vendidos_loja1['Loja'] = 'Loja 1'\n",
        "\n",
        "produtos_mais_vendidos_loja2 = loja2['Produto'].value_counts().reset_index().head(5)\n",
        "produtos_mais_vendidos_loja2.columns = ['Produto', 'Quantidade']\n",
        "produtos_mais_vendidos_loja2['Loja'] = 'Loja 2'\n",
        "\n",
        "produtos_mais_vendidos_loja3 = loja3['Produto'].value_counts().reset_index().head(5)\n",
        "produtos_mais_vendidos_loja3.columns = ['Produto', 'Quantidade']\n",
        "produtos_mais_vendidos_loja3['Loja'] = 'Loja 3'\n",
        "\n",
        "produtos_mais_vendidos_loja4 = loja4['Produto'].value_counts().reset_index().head(5)\n",
        "produtos_mais_vendidos_loja4.columns = ['Produto', 'Quantidade']\n",
        "produtos_mais_vendidos_loja4['Loja'] = 'Loja 4'\n",
        "\n",
        "# Combinando os resultados dos produtos mais vendidos\n",
        "produtos_mais_vendidos_df = pd.concat([\n",
        "    produtos_mais_vendidos_loja1, \n",
        "    produtos_mais_vendidos_loja2, \n",
        "    produtos_mais_vendidos_loja3, \n",
        "    produtos_mais_vendidos_loja4\n",
        "])\n",
        "\n",
        "# Exibindo os produtos mais vendidos por loja\n",
        "display(Markdown(\"### Produtos mais vendidos por loja:\"))\n",
        "\n",
        "for loja in ['Loja 1', 'Loja 2', 'Loja 3', 'Loja 4']:\n",
        "    display(Markdown(f\"**{loja}:**\"))\n",
        "    top_produtos = produtos_mais_vendidos_df[produtos_mais_vendidos_df['Loja'] == loja].sort_values('Quantidade', ascending=False)\n",
        "    display(top_produtos[['Produto', 'Quantidade']])"
      ]
    },
    {
      "cell_type": "code",
      "execution_count": 9,
      "metadata": {
        "id": "0Sw3sd4IZIGW"
      },
      "outputs": [
        {
          "data": {
            "text/markdown": [
              "### Produtos menos vendidos por loja:"
            ],
            "text/plain": [
              "<IPython.core.display.Markdown object>"
            ]
          },
          "metadata": {},
          "output_type": "display_data"
        },
        {
          "data": {
            "text/markdown": [
              "**Loja 1:**"
            ],
            "text/plain": [
              "<IPython.core.display.Markdown object>"
            ]
          },
          "metadata": {},
          "output_type": "display_data"
        },
        {
          "data": {
            "application/vnd.microsoft.datawrangler.viewer.v0+json": {
              "columns": [
                {
                  "name": "index",
                  "rawType": "int64",
                  "type": "integer"
                },
                {
                  "name": "Produto",
                  "rawType": "object",
                  "type": "string"
                },
                {
                  "name": "Quantidade",
                  "rawType": "int64",
                  "type": "integer"
                }
              ],
              "conversionMethod": "pd.DataFrame",
              "ref": "e156d945-8b6d-4454-ad6a-f07de1d7e64f",
              "rows": [
                [
                  "49",
                  "Headset",
                  "33"
                ],
                [
                  "50",
                  "Celular ABXY",
                  "33"
                ],
                [
                  "48",
                  "Panela de pressão",
                  "35"
                ],
                [
                  "47",
                  "Pandeiro",
                  "36"
                ],
                [
                  "46",
                  "Ciência de dados com python",
                  "39"
                ]
              ],
              "shape": {
                "columns": 2,
                "rows": 5
              }
            },
            "text/html": [
              "<div>\n",
              "<style scoped>\n",
              "    .dataframe tbody tr th:only-of-type {\n",
              "        vertical-align: middle;\n",
              "    }\n",
              "\n",
              "    .dataframe tbody tr th {\n",
              "        vertical-align: top;\n",
              "    }\n",
              "\n",
              "    .dataframe thead th {\n",
              "        text-align: right;\n",
              "    }\n",
              "</style>\n",
              "<table border=\"1\" class=\"dataframe\">\n",
              "  <thead>\n",
              "    <tr style=\"text-align: right;\">\n",
              "      <th></th>\n",
              "      <th>Produto</th>\n",
              "      <th>Quantidade</th>\n",
              "    </tr>\n",
              "  </thead>\n",
              "  <tbody>\n",
              "    <tr>\n",
              "      <th>49</th>\n",
              "      <td>Headset</td>\n",
              "      <td>33</td>\n",
              "    </tr>\n",
              "    <tr>\n",
              "      <th>50</th>\n",
              "      <td>Celular ABXY</td>\n",
              "      <td>33</td>\n",
              "    </tr>\n",
              "    <tr>\n",
              "      <th>48</th>\n",
              "      <td>Panela de pressão</td>\n",
              "      <td>35</td>\n",
              "    </tr>\n",
              "    <tr>\n",
              "      <th>47</th>\n",
              "      <td>Pandeiro</td>\n",
              "      <td>36</td>\n",
              "    </tr>\n",
              "    <tr>\n",
              "      <th>46</th>\n",
              "      <td>Ciência de dados com python</td>\n",
              "      <td>39</td>\n",
              "    </tr>\n",
              "  </tbody>\n",
              "</table>\n",
              "</div>"
            ],
            "text/plain": [
              "                        Produto  Quantidade\n",
              "49                      Headset          33\n",
              "50                 Celular ABXY          33\n",
              "48            Panela de pressão          35\n",
              "47                     Pandeiro          36\n",
              "46  Ciência de dados com python          39"
            ]
          },
          "metadata": {},
          "output_type": "display_data"
        },
        {
          "data": {
            "text/markdown": [
              "**Loja 2:**"
            ],
            "text/plain": [
              "<IPython.core.display.Markdown object>"
            ]
          },
          "metadata": {},
          "output_type": "display_data"
        },
        {
          "data": {
            "application/vnd.microsoft.datawrangler.viewer.v0+json": {
              "columns": [
                {
                  "name": "index",
                  "rawType": "int64",
                  "type": "integer"
                },
                {
                  "name": "Produto",
                  "rawType": "object",
                  "type": "string"
                },
                {
                  "name": "Quantidade",
                  "rawType": "int64",
                  "type": "integer"
                }
              ],
              "conversionMethod": "pd.DataFrame",
              "ref": "54697522-aea3-4ba3-afcb-e0f72bde8202",
              "rows": [
                [
                  "50",
                  "Jogo de tabuleiro",
                  "32"
                ],
                [
                  "48",
                  "Mesa de jantar",
                  "34"
                ],
                [
                  "49",
                  "Impressora",
                  "34"
                ],
                [
                  "47",
                  "Poltrona",
                  "35"
                ],
                [
                  "46",
                  "Fone de ouvido",
                  "37"
                ]
              ],
              "shape": {
                "columns": 2,
                "rows": 5
              }
            },
            "text/html": [
              "<div>\n",
              "<style scoped>\n",
              "    .dataframe tbody tr th:only-of-type {\n",
              "        vertical-align: middle;\n",
              "    }\n",
              "\n",
              "    .dataframe tbody tr th {\n",
              "        vertical-align: top;\n",
              "    }\n",
              "\n",
              "    .dataframe thead th {\n",
              "        text-align: right;\n",
              "    }\n",
              "</style>\n",
              "<table border=\"1\" class=\"dataframe\">\n",
              "  <thead>\n",
              "    <tr style=\"text-align: right;\">\n",
              "      <th></th>\n",
              "      <th>Produto</th>\n",
              "      <th>Quantidade</th>\n",
              "    </tr>\n",
              "  </thead>\n",
              "  <tbody>\n",
              "    <tr>\n",
              "      <th>50</th>\n",
              "      <td>Jogo de tabuleiro</td>\n",
              "      <td>32</td>\n",
              "    </tr>\n",
              "    <tr>\n",
              "      <th>48</th>\n",
              "      <td>Mesa de jantar</td>\n",
              "      <td>34</td>\n",
              "    </tr>\n",
              "    <tr>\n",
              "      <th>49</th>\n",
              "      <td>Impressora</td>\n",
              "      <td>34</td>\n",
              "    </tr>\n",
              "    <tr>\n",
              "      <th>47</th>\n",
              "      <td>Poltrona</td>\n",
              "      <td>35</td>\n",
              "    </tr>\n",
              "    <tr>\n",
              "      <th>46</th>\n",
              "      <td>Fone de ouvido</td>\n",
              "      <td>37</td>\n",
              "    </tr>\n",
              "  </tbody>\n",
              "</table>\n",
              "</div>"
            ],
            "text/plain": [
              "              Produto  Quantidade\n",
              "50  Jogo de tabuleiro          32\n",
              "48     Mesa de jantar          34\n",
              "49         Impressora          34\n",
              "47           Poltrona          35\n",
              "46     Fone de ouvido          37"
            ]
          },
          "metadata": {},
          "output_type": "display_data"
        },
        {
          "data": {
            "text/markdown": [
              "**Loja 3:**"
            ],
            "text/plain": [
              "<IPython.core.display.Markdown object>"
            ]
          },
          "metadata": {},
          "output_type": "display_data"
        },
        {
          "data": {
            "application/vnd.microsoft.datawrangler.viewer.v0+json": {
              "columns": [
                {
                  "name": "index",
                  "rawType": "int64",
                  "type": "integer"
                },
                {
                  "name": "Produto",
                  "rawType": "object",
                  "type": "string"
                },
                {
                  "name": "Quantidade",
                  "rawType": "int64",
                  "type": "integer"
                }
              ],
              "conversionMethod": "pd.DataFrame",
              "ref": "c1288487-7cdd-4168-82a9-3e2708f7071b",
              "rows": [
                [
                  "50",
                  "Blocos de montar",
                  "35"
                ],
                [
                  "47",
                  "Mochila",
                  "36"
                ],
                [
                  "48",
                  "Micro-ondas",
                  "36"
                ],
                [
                  "49",
                  "Jogo de copos",
                  "36"
                ],
                [
                  "46",
                  "Guitarra",
                  "38"
                ]
              ],
              "shape": {
                "columns": 2,
                "rows": 5
              }
            },
            "text/html": [
              "<div>\n",
              "<style scoped>\n",
              "    .dataframe tbody tr th:only-of-type {\n",
              "        vertical-align: middle;\n",
              "    }\n",
              "\n",
              "    .dataframe tbody tr th {\n",
              "        vertical-align: top;\n",
              "    }\n",
              "\n",
              "    .dataframe thead th {\n",
              "        text-align: right;\n",
              "    }\n",
              "</style>\n",
              "<table border=\"1\" class=\"dataframe\">\n",
              "  <thead>\n",
              "    <tr style=\"text-align: right;\">\n",
              "      <th></th>\n",
              "      <th>Produto</th>\n",
              "      <th>Quantidade</th>\n",
              "    </tr>\n",
              "  </thead>\n",
              "  <tbody>\n",
              "    <tr>\n",
              "      <th>50</th>\n",
              "      <td>Blocos de montar</td>\n",
              "      <td>35</td>\n",
              "    </tr>\n",
              "    <tr>\n",
              "      <th>47</th>\n",
              "      <td>Mochila</td>\n",
              "      <td>36</td>\n",
              "    </tr>\n",
              "    <tr>\n",
              "      <th>48</th>\n",
              "      <td>Micro-ondas</td>\n",
              "      <td>36</td>\n",
              "    </tr>\n",
              "    <tr>\n",
              "      <th>49</th>\n",
              "      <td>Jogo de copos</td>\n",
              "      <td>36</td>\n",
              "    </tr>\n",
              "    <tr>\n",
              "      <th>46</th>\n",
              "      <td>Guitarra</td>\n",
              "      <td>38</td>\n",
              "    </tr>\n",
              "  </tbody>\n",
              "</table>\n",
              "</div>"
            ],
            "text/plain": [
              "             Produto  Quantidade\n",
              "50  Blocos de montar          35\n",
              "47           Mochila          36\n",
              "48       Micro-ondas          36\n",
              "49     Jogo de copos          36\n",
              "46          Guitarra          38"
            ]
          },
          "metadata": {},
          "output_type": "display_data"
        },
        {
          "data": {
            "text/markdown": [
              "**Loja 4:**"
            ],
            "text/plain": [
              "<IPython.core.display.Markdown object>"
            ]
          },
          "metadata": {},
          "output_type": "display_data"
        },
        {
          "data": {
            "application/vnd.microsoft.datawrangler.viewer.v0+json": {
              "columns": [
                {
                  "name": "index",
                  "rawType": "int64",
                  "type": "integer"
                },
                {
                  "name": "Produto",
                  "rawType": "object",
                  "type": "string"
                },
                {
                  "name": "Quantidade",
                  "rawType": "int64",
                  "type": "integer"
                }
              ],
              "conversionMethod": "pd.DataFrame",
              "ref": "5de0eefc-458c-426b-920b-4f32f570f117",
              "rows": [
                [
                  "50",
                  "Guitarra",
                  "33"
                ],
                [
                  "49",
                  "Guarda roupas",
                  "34"
                ],
                [
                  "48",
                  "Violão",
                  "37"
                ],
                [
                  "46",
                  "Lavadora de roupas",
                  "38"
                ],
                [
                  "47",
                  "Ciência de dados com python",
                  "38"
                ]
              ],
              "shape": {
                "columns": 2,
                "rows": 5
              }
            },
            "text/html": [
              "<div>\n",
              "<style scoped>\n",
              "    .dataframe tbody tr th:only-of-type {\n",
              "        vertical-align: middle;\n",
              "    }\n",
              "\n",
              "    .dataframe tbody tr th {\n",
              "        vertical-align: top;\n",
              "    }\n",
              "\n",
              "    .dataframe thead th {\n",
              "        text-align: right;\n",
              "    }\n",
              "</style>\n",
              "<table border=\"1\" class=\"dataframe\">\n",
              "  <thead>\n",
              "    <tr style=\"text-align: right;\">\n",
              "      <th></th>\n",
              "      <th>Produto</th>\n",
              "      <th>Quantidade</th>\n",
              "    </tr>\n",
              "  </thead>\n",
              "  <tbody>\n",
              "    <tr>\n",
              "      <th>50</th>\n",
              "      <td>Guitarra</td>\n",
              "      <td>33</td>\n",
              "    </tr>\n",
              "    <tr>\n",
              "      <th>49</th>\n",
              "      <td>Guarda roupas</td>\n",
              "      <td>34</td>\n",
              "    </tr>\n",
              "    <tr>\n",
              "      <th>48</th>\n",
              "      <td>Violão</td>\n",
              "      <td>37</td>\n",
              "    </tr>\n",
              "    <tr>\n",
              "      <th>46</th>\n",
              "      <td>Lavadora de roupas</td>\n",
              "      <td>38</td>\n",
              "    </tr>\n",
              "    <tr>\n",
              "      <th>47</th>\n",
              "      <td>Ciência de dados com python</td>\n",
              "      <td>38</td>\n",
              "    </tr>\n",
              "  </tbody>\n",
              "</table>\n",
              "</div>"
            ],
            "text/plain": [
              "                        Produto  Quantidade\n",
              "50                     Guitarra          33\n",
              "49                Guarda roupas          34\n",
              "48                       Violão          37\n",
              "46           Lavadora de roupas          38\n",
              "47  Ciência de dados com python          38"
            ]
          },
          "metadata": {},
          "output_type": "display_data"
        }
      ],
      "source": [
        "# Analisando os produtos menos vendidos por loja\n",
        "produtos_menos_vendidos_loja1 = loja1['Produto'].value_counts().reset_index().tail(5)\n",
        "produtos_menos_vendidos_loja1.columns = ['Produto', 'Quantidade']\n",
        "produtos_menos_vendidos_loja1['Loja'] = 'Loja 1'\n",
        "\n",
        "produtos_menos_vendidos_loja2 = loja2['Produto'].value_counts().reset_index().tail(5)\n",
        "produtos_menos_vendidos_loja2.columns = ['Produto', 'Quantidade']\n",
        "produtos_menos_vendidos_loja2['Loja'] = 'Loja 2'\n",
        "\n",
        "produtos_menos_vendidos_loja3 = loja3['Produto'].value_counts().reset_index().tail(5)\n",
        "produtos_menos_vendidos_loja3.columns = ['Produto', 'Quantidade']\n",
        "produtos_menos_vendidos_loja3['Loja'] = 'Loja 3'\n",
        "\n",
        "produtos_menos_vendidos_loja4 = loja4['Produto'].value_counts().reset_index().tail(5)\n",
        "produtos_menos_vendidos_loja4.columns = ['Produto', 'Quantidade']\n",
        "produtos_menos_vendidos_loja4['Loja'] = 'Loja 4'\n",
        "\n",
        "# Combinando os resultados dos produtos menos vendidos\n",
        "produtos_menos_vendidos_df = pd.concat([\n",
        "    produtos_menos_vendidos_loja1, \n",
        "    produtos_menos_vendidos_loja2, \n",
        "    produtos_menos_vendidos_loja3, \n",
        "    produtos_menos_vendidos_loja4\n",
        "])\n",
        "\n",
        "# Exibindo os produtos menos vendidos por loja\n",
        "display(Markdown(\"### Produtos menos vendidos por loja:\"))\n",
        "\n",
        "for loja in ['Loja 1', 'Loja 2', 'Loja 3', 'Loja 4']:\n",
        "    display(Markdown(f\"**{loja}:**\"))\n",
        "    bottom_produtos = produtos_menos_vendidos_df[produtos_menos_vendidos_df['Loja'] == loja].sort_values('Quantidade')\n",
        "    display(bottom_produtos[['Produto', 'Quantidade']])"
      ]
    },
    {
      "cell_type": "markdown",
      "metadata": {
        "id": "Fl0cGi3bZKqU"
      },
      "source": [
        "# 5. Frete Médio por Loja\n"
      ]
    },
    {
      "cell_type": "code",
      "execution_count": 10,
      "metadata": {
        "id": "S2JeaCykZNy9"
      },
      "outputs": [
        {
          "data": {
            "text/markdown": [
              "### Custo Médio do Frete por Loja:"
            ],
            "text/plain": [
              "<IPython.core.display.Markdown object>"
            ]
          },
          "metadata": {},
          "output_type": "display_data"
        },
        {
          "data": {
            "application/vnd.microsoft.datawrangler.viewer.v0+json": {
              "columns": [
                {
                  "name": "index",
                  "rawType": "int64",
                  "type": "integer"
                },
                {
                  "name": "Loja",
                  "rawType": "object",
                  "type": "string"
                },
                {
                  "name": "Frete Médio",
                  "rawType": "float64",
                  "type": "float"
                }
              ],
              "conversionMethod": "pd.DataFrame",
              "ref": "00a769e8-a1e7-4aac-a041-5c5a9df3d326",
              "rows": [
                [
                  "0",
                  "Loja 1",
                  "34.69180491551149"
                ],
                [
                  "1",
                  "Loja 2",
                  "33.62194065817927"
                ],
                [
                  "2",
                  "Loja 3",
                  "33.07446427411743"
                ],
                [
                  "3",
                  "Loja 4",
                  "31.278997081841727"
                ]
              ],
              "shape": {
                "columns": 2,
                "rows": 4
              }
            },
            "text/html": [
              "<div>\n",
              "<style scoped>\n",
              "    .dataframe tbody tr th:only-of-type {\n",
              "        vertical-align: middle;\n",
              "    }\n",
              "\n",
              "    .dataframe tbody tr th {\n",
              "        vertical-align: top;\n",
              "    }\n",
              "\n",
              "    .dataframe thead th {\n",
              "        text-align: right;\n",
              "    }\n",
              "</style>\n",
              "<table border=\"1\" class=\"dataframe\">\n",
              "  <thead>\n",
              "    <tr style=\"text-align: right;\">\n",
              "      <th></th>\n",
              "      <th>Loja</th>\n",
              "      <th>Frete Médio</th>\n",
              "    </tr>\n",
              "  </thead>\n",
              "  <tbody>\n",
              "    <tr>\n",
              "      <th>0</th>\n",
              "      <td>Loja 1</td>\n",
              "      <td>34.691805</td>\n",
              "    </tr>\n",
              "    <tr>\n",
              "      <th>1</th>\n",
              "      <td>Loja 2</td>\n",
              "      <td>33.621941</td>\n",
              "    </tr>\n",
              "    <tr>\n",
              "      <th>2</th>\n",
              "      <td>Loja 3</td>\n",
              "      <td>33.074464</td>\n",
              "    </tr>\n",
              "    <tr>\n",
              "      <th>3</th>\n",
              "      <td>Loja 4</td>\n",
              "      <td>31.278997</td>\n",
              "    </tr>\n",
              "  </tbody>\n",
              "</table>\n",
              "</div>"
            ],
            "text/plain": [
              "     Loja  Frete Médio\n",
              "0  Loja 1    34.691805\n",
              "1  Loja 2    33.621941\n",
              "2  Loja 3    33.074464\n",
              "3  Loja 4    31.278997"
            ]
          },
          "metadata": {},
          "output_type": "display_data"
        }
      ],
      "source": [
        "# Calculando o custo médio do frete por loja\n",
        "frete_loja1 = loja1['Frete'].mean()\n",
        "frete_loja2 = loja2['Frete'].mean()\n",
        "frete_loja3 = loja3['Frete'].mean()\n",
        "frete_loja4 = loja4['Frete'].mean()\n",
        "\n",
        "# Criando um DataFrame com os resultados\n",
        "frete_df = pd.DataFrame({\n",
        "    'Loja': ['Loja 1', 'Loja 2', 'Loja 3', 'Loja 4'],\n",
        "    'Frete Médio': [frete_loja1, frete_loja2, frete_loja3, frete_loja4]\n",
        "})\n",
        "\n",
        "# Ordenando por frete médio (do maior para o menor)\n",
        "frete_df = frete_df.sort_values('Frete Médio', ascending=False)\n",
        "\n",
        "# Exibindo os resultados\n",
        "display(Markdown(\"### Custo Médio do Frete por Loja:\"))\n",
        "display(frete_df)"
      ]
    },
    {
      "cell_type": "markdown",
      "metadata": {
        "id": "0tSdCie9ZQlt"
      },
      "source": [
        "# 6. Análise Comparativa e Conclusão"
      ]
    },
    {
      "cell_type": "markdown",
      "metadata": {
        "id": "Ej2Ql5Yz1234"
      },
      "source": [
        "## 6.1 Análise Comparativa de Indicadores-Chave de Desempenho (KPIs)\n",
        "\n",
        "Nesta seção, analisaremos os principais indicadores de desempenho das quatro lojas da Alura Store, utilizando uma abordagem de consultoria empresarial para identificar qual loja apresenta o menor desempenho geral e deve ser considerada para venda."
      ]
    },
    {
      "cell_type": "code",
      "execution_count": 11,
      "metadata": {
        "id": "Ej2Ql5Yz5678"
      },
      "outputs": [
        {
          "data": {
            "text/markdown": [
              "### Quadro Comparativo de KPIs por Loja:"
            ],
            "text/plain": [
              "<IPython.core.display.Markdown object>"
            ]
          },
          "metadata": {},
          "output_type": "display_data"
        },
        {
          "data": {
            "application/vnd.microsoft.datawrangler.viewer.v0+json": {
              "columns": [
                {
                  "name": "index",
                  "rawType": "int64",
                  "type": "integer"
                },
                {
                  "name": "Loja",
                  "rawType": "object",
                  "type": "string"
                },
                {
                  "name": "Faturamento Total (R$)",
                  "rawType": "float64",
                  "type": "float"
                },
                {
                  "name": "Média de Avaliação",
                  "rawType": "float64",
                  "type": "float"
                },
                {
                  "name": "Frete Médio (R$)",
                  "rawType": "float64",
                  "type": "float"
                }
              ],
              "conversionMethod": "pd.DataFrame",
              "ref": "fa95b280-9209-4b94-affe-71fac0e1e7c2",
              "rows": [
                [
                  "0",
                  "Loja 1",
                  "1534509.12",
                  "3.976685036032217",
                  "34.69180491551149"
                ],
                [
                  "1",
                  "Loja 2",
                  "1488459.06",
                  "4.037303942348453",
                  "33.62194065817927"
                ],
                [
                  "2",
                  "Loja 3",
                  "1464025.03",
                  "4.048325561678677",
                  "33.07446427411743"
                ],
                [
                  "3",
                  "Loja 4",
                  "1384497.58",
                  "3.9957591178965224",
                  "31.278997081841727"
                ]
              ],
              "shape": {
                "columns": 4,
                "rows": 4
              }
            },
            "text/html": [
              "<div>\n",
              "<style scoped>\n",
              "    .dataframe tbody tr th:only-of-type {\n",
              "        vertical-align: middle;\n",
              "    }\n",
              "\n",
              "    .dataframe tbody tr th {\n",
              "        vertical-align: top;\n",
              "    }\n",
              "\n",
              "    .dataframe thead th {\n",
              "        text-align: right;\n",
              "    }\n",
              "</style>\n",
              "<table border=\"1\" class=\"dataframe\">\n",
              "  <thead>\n",
              "    <tr style=\"text-align: right;\">\n",
              "      <th></th>\n",
              "      <th>Loja</th>\n",
              "      <th>Faturamento Total (R$)</th>\n",
              "      <th>Média de Avaliação</th>\n",
              "      <th>Frete Médio (R$)</th>\n",
              "    </tr>\n",
              "  </thead>\n",
              "  <tbody>\n",
              "    <tr>\n",
              "      <th>0</th>\n",
              "      <td>Loja 1</td>\n",
              "      <td>1534509.12</td>\n",
              "      <td>3.976685</td>\n",
              "      <td>34.691805</td>\n",
              "    </tr>\n",
              "    <tr>\n",
              "      <th>1</th>\n",
              "      <td>Loja 2</td>\n",
              "      <td>1488459.06</td>\n",
              "      <td>4.037304</td>\n",
              "      <td>33.621941</td>\n",
              "    </tr>\n",
              "    <tr>\n",
              "      <th>2</th>\n",
              "      <td>Loja 3</td>\n",
              "      <td>1464025.03</td>\n",
              "      <td>4.048326</td>\n",
              "      <td>33.074464</td>\n",
              "    </tr>\n",
              "    <tr>\n",
              "      <th>3</th>\n",
              "      <td>Loja 4</td>\n",
              "      <td>1384497.58</td>\n",
              "      <td>3.995759</td>\n",
              "      <td>31.278997</td>\n",
              "    </tr>\n",
              "  </tbody>\n",
              "</table>\n",
              "</div>"
            ],
            "text/plain": [
              "     Loja  Faturamento Total (R$)  Média de Avaliação  Frete Médio (R$)\n",
              "0  Loja 1              1534509.12            3.976685         34.691805\n",
              "1  Loja 2              1488459.06            4.037304         33.621941\n",
              "2  Loja 3              1464025.03            4.048326         33.074464\n",
              "3  Loja 4              1384497.58            3.995759         31.278997"
            ]
          },
          "metadata": {},
          "output_type": "display_data"
        }
      ],
      "source": [
        "# Consolidando os dados de todas as métricas em um único DataFrame para análise comparativa\n",
        "lojas = ['Loja 1', 'Loja 2', 'Loja 3', 'Loja 4']\n",
        "metricas_df = pd.DataFrame({'Loja': lojas})\n",
        "\n",
        "# Adicionando os valores de faturamento\n",
        "for loja in lojas:\n",
        "    metricas_df.loc[metricas_df['Loja'] == loja, 'Faturamento Total (R$)'] = \\\n",
        "        faturamento_df.loc[faturamento_df['Loja'] == loja, 'Faturamento Total'].values[0]\n",
        "\n",
        "# Adicionando os valores de avaliação\n",
        "for loja in lojas:\n",
        "    metricas_df.loc[metricas_df['Loja'] == loja, 'Média de Avaliação'] = \\\n",
        "        avaliacao_df.loc[avaliacao_df['Loja'] == loja, 'Média de Avaliação'].values[0]\n",
        "\n",
        "# Adicionando os valores de frete\n",
        "for loja in lojas:\n",
        "    metricas_df.loc[metricas_df['Loja'] == loja, 'Frete Médio (R$)'] = \\\n",
        "        frete_df.loc[frete_df['Loja'] == loja, 'Frete Médio'].values[0]\n",
        "\n",
        "# Exibindo o quadro comparativo completo\n",
        "display(Markdown(\"### Quadro Comparativo de KPIs por Loja:\"))\n",
        "display(metricas_df)"
      ]
    },
    {
      "cell_type": "code",
      "execution_count": null,
      "metadata": {
        "id": "Ej2Ql5Yz9012"
      },
      "outputs": [
        {
          "data": {
            "text/markdown": [
              "### Análise de Variação Percentual em Relação à Média:"
            ],
            "text/plain": [
              "<IPython.core.display.Markdown object>"
            ]
          },
          "metadata": {},
          "output_type": "display_data"
        },
        {
          "data": {
            "application/vnd.microsoft.datawrangler.viewer.v0+json": {
              "columns": [
                {
                  "name": "index",
                  "rawType": "int64",
                  "type": "integer"
                },
                {
                  "name": "Loja",
                  "rawType": "object",
                  "type": "string"
                },
                {
                  "name": "Variação do Faturamento (%)",
                  "rawType": "float64",
                  "type": "float"
                },
                {
                  "name": "Variação da Avaliação (%)",
                  "rawType": "float64",
                  "type": "float"
                },
                {
                  "name": "Variação do Frete (%)",
                  "rawType": "float64",
                  "type": "float"
                }
              ],
              "conversionMethod": "pd.DataFrame",
              "ref": "5df1ee98-c8c2-496e-b1f6-477bcb9f1078",
              "rows": [
                [
                  "0",
                  "Loja 1",
                  "4.539659509540006",
                  "-0.9424138726130682",
                  "-4.395860021734254"
                ],
                [
                  "1",
                  "Loja 2",
                  "1.402462388942971",
                  "0.5675781129126145",
                  "-1.3536961783199963"
                ],
                [
                  "2",
                  "Loja 3",
                  "-0.2621254218130198",
                  "0.8421221102808962",
                  "0.27918051077038264"
                ],
                [
                  "3",
                  "Loja 4",
                  "-5.679996476669935",
                  "-0.46728635058043144",
                  "6.035374617770839"
                ]
              ],
              "shape": {
                "columns": 4,
                "rows": 4
              }
            },
            "text/html": [
              "<div>\n",
              "<style scoped>\n",
              "    .dataframe tbody tr th:only-of-type {\n",
              "        vertical-align: middle;\n",
              "    }\n",
              "\n",
              "    .dataframe tbody tr th {\n",
              "        vertical-align: top;\n",
              "    }\n",
              "\n",
              "    .dataframe thead th {\n",
              "        text-align: right;\n",
              "    }\n",
              "</style>\n",
              "<table border=\"1\" class=\"dataframe\">\n",
              "  <thead>\n",
              "    <tr style=\"text-align: right;\">\n",
              "      <th></th>\n",
              "      <th>Loja</th>\n",
              "      <th>Variação do Faturamento (%)</th>\n",
              "      <th>Variação da Avaliação (%)</th>\n",
              "      <th>Variação do Frete (%)</th>\n",
              "    </tr>\n",
              "  </thead>\n",
              "  <tbody>\n",
              "    <tr>\n",
              "      <th>0</th>\n",
              "      <td>Loja 1</td>\n",
              "      <td>4.539660</td>\n",
              "      <td>-0.942414</td>\n",
              "      <td>-4.395860</td>\n",
              "    </tr>\n",
              "    <tr>\n",
              "      <th>1</th>\n",
              "      <td>Loja 2</td>\n",
              "      <td>1.402462</td>\n",
              "      <td>0.567578</td>\n",
              "      <td>-1.353696</td>\n",
              "    </tr>\n",
              "    <tr>\n",
              "      <th>2</th>\n",
              "      <td>Loja 3</td>\n",
              "      <td>-0.262125</td>\n",
              "      <td>0.842122</td>\n",
              "      <td>0.279181</td>\n",
              "    </tr>\n",
              "    <tr>\n",
              "      <th>3</th>\n",
              "      <td>Loja 4</td>\n",
              "      <td>-5.679996</td>\n",
              "      <td>-0.467286</td>\n",
              "      <td>6.035375</td>\n",
              "    </tr>\n",
              "  </tbody>\n",
              "</table>\n",
              "</div>"
            ],
            "text/plain": [
              "     Loja  Variação do Faturamento (%)  Variação da Avaliação (%)  \\\n",
              "0  Loja 1                     4.539660                  -0.942414   \n",
              "1  Loja 2                     1.402462                   0.567578   \n",
              "2  Loja 3                    -0.262125                   0.842122   \n",
              "3  Loja 4                    -5.679996                  -0.467286   \n",
              "\n",
              "   Variação do Frete (%)  \n",
              "0              -4.395860  \n",
              "1              -1.353696  \n",
              "2               0.279181  \n",
              "3               6.035375  "
            ]
          },
          "metadata": {},
          "output_type": "display_data"
        }
      ],
      "source": [
        "# Variação percentual do faturamento em relação à média\n",
        "faturamento_medio = metricas_df['Faturamento Total (R$)'].mean()\n",
        "metricas_df['Variação do Faturamento (%)'] = ((metricas_df['Faturamento Total (R$)'] / faturamento_medio) - 1) * 100\n",
        "\n",
        "# Variação percentual da avaliação em relação à média\n",
        "avaliacao_media = metricas_df['Média de Avaliação'].mean()\n",
        "metricas_df['Variação da Avaliação (%)'] = ((metricas_df['Média de Avaliação'] / avaliacao_media) - 1) * 100\n",
        "\n",
        "# Variação percentual do frete em relação à média (invertido, pois menor frete é melhor)\n",
        "frete_medio = metricas_df['Frete Médio (R$)'].mean()\n",
        "metricas_df['Variação do Frete (%)'] = ((frete_medio / metricas_df['Frete Médio (R$)']) - 1) * 100\n",
        "\n",
        "# Exibindo o quadro com as variações percentuais\n",
        "display(Markdown(\"### Análise de Variação Percentual em Relação à Média:\"))\n",
        "display(metricas_df[['Loja', 'Variação do Faturamento (%)', 'Variação da Avaliação (%)', 'Variação do Frete (%)']])"
      ]
    },
    {
      "cell_type": "code",
      "execution_count": null,
      "metadata": {
        "id": "Ej2Ql5Yz9013"
      },
      "outputs": [
        {
          "data": {
            "image/png": "[encoded data removed]",
            "text/plain": [
              "<Figure size 1400x700 with 1 Axes>"
            ]
          },
          "metadata": {},
          "output_type": "display_data"
        }
      ],
      "source": [
        "# Criando um gráfico de barras para visualizar a variação percentual do faturamento\n",
        "plt.figure(figsize=(14, 7))\n",
        "ax = sns.barplot(\n",
        "    x='Loja', \n",
        "    y='Variação do Faturamento (%)', \n",
        "    data=metricas_df.sort_values('Variação do Faturamento (%)', ascending=True), \n",
        "    hue='Loja',\n",
        "    palette=['#EA4335' if x < 0 else '#34A853' for x in metricas_df.sort_values('Variação do Faturamento (%)', ascending=True)['Variação do Faturamento (%)']],\n",
        "    alpha=0.8,\n",
        "    dodge=False\n",
        ")\n",
        "plt.legend([], [], frameon=False) \n",
        "\n",
        "plt.title('Variação Percentual do Faturamento em Relação à Média', fontsize=16)\n",
        "plt.xlabel('Loja', fontsize=12)\n",
        "plt.ylabel('Variação (%)', fontsize=12)\n",
        "plt.axhline(y=0, color='black', linestyle='-', alpha=0.3)\n",
        "\n",
        "# Adicionando os valores nas barras\n",
        "for i, valor in enumerate(metricas_df.sort_values('Variação do Faturamento (%)', ascending=True)['Variação do Faturamento (%)']):\n",
        "    ax.text(i, valor + (0.5 if valor >= 0 else -0.5), f'{valor:.2f}%', ha='center', fontsize=10, fontweight='bold')\n",
        "\n",
        "plt.tight_layout()\n",
        "plt.show()"
      ]
    },
    {
      "cell_type": "code",
      "execution_count": 22,
      "metadata": {
        "id": "Ej2Ql5Yz9014"
      },
      "outputs": [
        {
          "data": {
            "image/png": "[encoded data removed]",
            "text/plain": [
              "<Figure size 1200x1000 with 1 Axes>"
            ]
          },
          "metadata": {},
          "output_type": "display_data"
        }
      ],
      "source": [
        "# Normalizando os dados para uma escala de 0 a 100\n",
        "# Faturamento normalizado (maior é melhor)\n",
        "faturamento_max = metricas_df['Faturamento Total (R$)'].max()\n",
        "faturamento_min = metricas_df['Faturamento Total (R$)'].min()\n",
        "metricas_df['Faturamento Normalizado'] = ((metricas_df['Faturamento Total (R$)'] - faturamento_min) / \n",
        "                                         (faturamento_max - faturamento_min)) * 100\n",
        "\n",
        "# Avaliação normalizada (maior é melhor)\n",
        "avaliacao_max = metricas_df['Média de Avaliação'].max()\n",
        "avaliacao_min = metricas_df['Média de Avaliação'].min()\n",
        "metricas_df['Avaliação Normalizada'] = ((metricas_df['Média de Avaliação'] - avaliacao_min) / \n",
        "                                       (avaliacao_max - avaliacao_min)) * 100\n",
        "\n",
        "# Frete normalizado (menor é melhor, então invertemos)\n",
        "frete_max = metricas_df['Frete Médio (R$)'].max()\n",
        "frete_min = metricas_df['Frete Médio (R$)'].min()\n",
        "metricas_df['Frete Normalizado'] = ((frete_max - metricas_df['Frete Médio (R$)']) / \n",
        "                                   (frete_max - frete_min)) * 100\n",
        "\n",
        "# Criando o gráfico de radar\n",
        "plt.figure(figsize=(12, 10))\n",
        "\n",
        "# Categorias para o gráfico radar\n",
        "categories = ['Faturamento', 'Avaliação', 'Frete']\n",
        "N = len(categories)\n",
        "\n",
        "# Ângulos para o gráfico radar (em radianos)\n",
        "angles = [n / float(N) * 2 * np.pi for n in range(N)]\n",
        "angles += angles[:1]  # Fechando o círculo\n",
        "\n",
        "# Configurando o subplot como polar\n",
        "ax = plt.subplot(111, polar=True)\n",
        "\n",
        "# Adicionando linhas para cada loja\n",
        "for i, loja in enumerate(lojas):\n",
        "    valores = metricas_df[metricas_df['Loja'] == loja][['Faturamento Normalizado', 'Avaliação Normalizada', 'Frete Normalizado']].values.flatten().tolist()\n",
        "    valores += valores[:1]  # Fechando o círculo\n",
        "    \n",
        "    ax.plot(angles, valores, linewidth=2, linestyle='solid', label=loja, color=cores[i])\n",
        "    \n",
        "    ax.fill(angles, valores, alpha=0.1, color=cores[i])\n",
        "\n",
        "plt.xticks(angles[:-1], categories, size=14, weight='bold')\n",
        "ax.set_rlabel_position(0)\n",
        "plt.yticks([0, 25, 50, 75, 100], ['0%', '25%', '50%', '75%', '100%'], color=\"grey\", size=10)\n",
        "plt.ylim(0, 100)\n",
        "\n",
        "plt.title('Análise Comparativa de Desempenho', size=18, weight='bold', y=1.1)\n",
        "plt.figtext(0.5, 0.01, 'Valores mais altos indicam melhor desempenho em todas as métricas', \n",
        "            ha='center', size=14, style='italic')\n",
        "plt.legend(loc='upper right', bbox_to_anchor=(0.1, 0.1))\n",
        "\n",
        "for spine in ax.spines.values():\n",
        "    spine.set_visible(False)\n",
        "\n",
        "plt.grid(True, linestyle='-', alpha=0.2)\n",
        "plt.tight_layout()\n",
        "plt.show()"
      ]
    },
    {
      "cell_type": "code",
      "execution_count": 23,
      "metadata": {
        "id": "Ej2Ql5Yz9015"
      },
      "outputs": [
        {
          "data": {
            "image/png": "[encoded data removed]",
            "text/plain": [
              "<Figure size 1400x800 with 1 Axes>"
            ]
          },
          "metadata": {},
          "output_type": "display_data"
        }
      ],
      "source": [
        "# Criando um gráfico de barras empilhadas para visualizar a contribuição de cada métrica\n",
        "data_stack = pd.DataFrame({\n",
        "    'Loja': lojas,\n",
        "    'Faturamento': metricas_df['Faturamento Normalizado'],\n",
        "    'Avaliação': metricas_df['Avaliação Normalizada'],\n",
        "    'Frete': metricas_df['Frete Normalizado']\n",
        "})\n",
        "\n",
        "# Calculando o desempenho total (soma das três métricas normalizadas)\n",
        "data_stack['Desempenho Total'] = data_stack['Faturamento'] + data_stack['Avaliação'] + data_stack['Frete']\n",
        "data_stack = data_stack.sort_values('Desempenho Total', ascending=True)\n",
        "\n",
        "# Criando o gráfico de barras empilhadas\n",
        "plt.figure(figsize=(14, 8))\n",
        "\n",
        "# Criando as barras empilhadas\n",
        "bottom_data = np.zeros(len(data_stack))\n",
        "\n",
        "for i, col in enumerate(['Faturamento', 'Avaliação', 'Frete']):\n",
        "    plt.bar(data_stack['Loja'], data_stack[col], bottom=bottom_data, \n",
        "            label=col, alpha=0.7, color=cores[i])\n",
        "    \n",
        "    for j, (value, total) in enumerate(zip(data_stack[col], bottom_data)):\n",
        "        plt.text(j, bottom_data[j] + value/2, f'{value:.1f}', \n",
        "                ha='center', va='center', fontweight='bold', color='white')\n",
        "        bottom_data[j] += value\n",
        "\n",
        "# Adicionando os valores totais no topo de cada barra\n",
        "for j, total in enumerate(data_stack['Desempenho Total']):\n",
        "    plt.text(j, total + 5, f'Total: {total:.1f}', ha='center', fontweight='bold')\n",
        "\n",
        "plt.title('Desempenho Comparativo por Métrica', fontsize=16)\n",
        "plt.xlabel('Loja', fontsize=14)\n",
        "plt.ylabel('Pontuação Normalizada (0-300)', fontsize=14)\n",
        "plt.legend(title='Métricas', title_fontsize=12)\n",
        "plt.grid(axis='y', alpha=0.3)\n",
        "\n",
        "plt.tight_layout()\n",
        "plt.show()"
      ]
    },
    {
      "cell_type": "markdown",
      "metadata": {
        "id": "Ej2Ql5Yz9016"
      },
      "source": [
        "## 6.2 Análise SWOT Simplificada da Loja com Menor Desempenho\n",
        "\n",
        "Com base nos dados analisados, identificamos que a **Loja 4** apresenta o menor desempenho geral, principalmente devido ao seu faturamento significativamente abaixo das outras lojas. Abaixo, apresentamos uma análise SWOT simplificada para esta loja:"
      ]
    },
    {
      "cell_type": "code",
      "execution_count": 16,
      "metadata": {
        "id": "Ej2Ql5Yz9017"
      },
      "outputs": [
        {
          "data": {
            "text/markdown": [
              "### Análise SWOT da Loja 4:"
            ],
            "text/plain": [
              "<IPython.core.display.Markdown object>"
            ]
          },
          "metadata": {},
          "output_type": "display_data"
        },
        {
          "data": {
            "application/vnd.microsoft.datawrangler.viewer.v0+json": {
              "columns": [
                {
                  "name": "index",
                  "rawType": "int64",
                  "type": "integer"
                },
                {
                  "name": "Forças (Strengths)",
                  "rawType": "object",
                  "type": "string"
                },
                {
                  "name": "Fraquezas (Weaknesses)",
                  "rawType": "object",
                  "type": "string"
                }
              ],
              "conversionMethod": "pd.DataFrame",
              "ref": "29b04b24-9359-4b64-b146-3d070c52ad42",
              "rows": [
                [
                  "0",
                  "• Menor custo médio de frete (R$ 31,28)",
                  "• Menor faturamento total (R$ 1.384.497,58)"
                ],
                [
                  "1",
                  "• Desempenho mediano em avaliação dos clientes (4,00 estrelas)",
                  "• Faturamento 9,8% abaixo da média das lojas"
                ],
                [
                  "2",
                  "• Mix de produtos similar às outras lojas",
                  "• Desempenho geral inferior em comparação com as outras lojas"
                ],
                [
                  "3",
                  "",
                  ""
                ],
                [
                  "4",
                  "Oportunidades (Opportunities)",
                  "Ameaças (Threats)"
                ],
                [
                  "5",
                  "• Potencial para venda e reinvestimento em negócio mais lucrativo",
                  "• Continuidade da operação pode resultar em perdas financeiras"
                ],
                [
                  "6",
                  "• Realocação de recursos para as lojas com melhor desempenho",
                  "• Possível deterioração adicional do desempenho se mantida"
                ],
                [
                  "7",
                  "• Possibilidade de consolidação do negócio",
                  "• Competição com as outras lojas da rede que têm melhor desempenho"
                ]
              ],
              "shape": {
                "columns": 2,
                "rows": 8
              }
            },
            "text/html": [
              "<div>\n",
              "<style scoped>\n",
              "    .dataframe tbody tr th:only-of-type {\n",
              "        vertical-align: middle;\n",
              "    }\n",
              "\n",
              "    .dataframe tbody tr th {\n",
              "        vertical-align: top;\n",
              "    }\n",
              "\n",
              "    .dataframe thead th {\n",
              "        text-align: right;\n",
              "    }\n",
              "</style>\n",
              "<table border=\"1\" class=\"dataframe\">\n",
              "  <thead>\n",
              "    <tr style=\"text-align: right;\">\n",
              "      <th></th>\n",
              "      <th>Forças (Strengths)</th>\n",
              "      <th>Fraquezas (Weaknesses)</th>\n",
              "    </tr>\n",
              "  </thead>\n",
              "  <tbody>\n",
              "    <tr>\n",
              "      <th>0</th>\n",
              "      <td>• Menor custo médio de frete (R$ 31,28)</td>\n",
              "      <td>• Menor faturamento total (R$ 1.384.497,58)</td>\n",
              "    </tr>\n",
              "    <tr>\n",
              "      <th>1</th>\n",
              "      <td>• Desempenho mediano em avaliação dos clientes...</td>\n",
              "      <td>• Faturamento 9,8% abaixo da média das lojas</td>\n",
              "    </tr>\n",
              "    <tr>\n",
              "      <th>2</th>\n",
              "      <td>• Mix de produtos similar às outras lojas</td>\n",
              "      <td>• Desempenho geral inferior em comparação com ...</td>\n",
              "    </tr>\n",
              "    <tr>\n",
              "      <th>3</th>\n",
              "      <td></td>\n",
              "      <td></td>\n",
              "    </tr>\n",
              "    <tr>\n",
              "      <th>4</th>\n",
              "      <td>Oportunidades (Opportunities)</td>\n",
              "      <td>Ameaças (Threats)</td>\n",
              "    </tr>\n",
              "    <tr>\n",
              "      <th>5</th>\n",
              "      <td>• Potencial para venda e reinvestimento em neg...</td>\n",
              "      <td>• Continuidade da operação pode resultar em pe...</td>\n",
              "    </tr>\n",
              "    <tr>\n",
              "      <th>6</th>\n",
              "      <td>• Realocação de recursos para as lojas com mel...</td>\n",
              "      <td>• Possível deterioração adicional do desempenh...</td>\n",
              "    </tr>\n",
              "    <tr>\n",
              "      <th>7</th>\n",
              "      <td>• Possibilidade de consolidação do negócio</td>\n",
              "      <td>• Competição com as outras lojas da rede que t...</td>\n",
              "    </tr>\n",
              "  </tbody>\n",
              "</table>\n",
              "</div>"
            ],
            "text/plain": [
              "                                  Forças (Strengths)  \\\n",
              "0            • Menor custo médio de frete (R$ 31,28)   \n",
              "1  • Desempenho mediano em avaliação dos clientes...   \n",
              "2          • Mix de produtos similar às outras lojas   \n",
              "3                                                      \n",
              "4                      Oportunidades (Opportunities)   \n",
              "5  • Potencial para venda e reinvestimento em neg...   \n",
              "6  • Realocação de recursos para as lojas com mel...   \n",
              "7         • Possibilidade de consolidação do negócio   \n",
              "\n",
              "                              Fraquezas (Weaknesses)  \n",
              "0        • Menor faturamento total (R$ 1.384.497,58)  \n",
              "1       • Faturamento 9,8% abaixo da média das lojas  \n",
              "2  • Desempenho geral inferior em comparação com ...  \n",
              "3                                                     \n",
              "4                                  Ameaças (Threats)  \n",
              "5  • Continuidade da operação pode resultar em pe...  \n",
              "6  • Possível deterioração adicional do desempenh...  \n",
              "7  • Competição com as outras lojas da rede que t...  "
            ]
          },
          "metadata": {},
          "output_type": "display_data"
        }
      ],
      "source": [
        "# Criando uma tabela para a análise SWOT da Loja 4\n",
        "swot_data = [\n",
        "    ['Forças (Strengths)', 'Fraquezas (Weaknesses)'],\n",
        "    ['• Menor custo médio de frete (R$ 31,28)', '• Menor faturamento total (R$ 1.384.497,58)'],\n",
        "    ['• Desempenho mediano em avaliação dos clientes (4,00 estrelas)', '• Faturamento 9,8% abaixo da média das lojas'],\n",
        "    ['• Mix de produtos similar às outras lojas', '• Desempenho geral inferior em comparação com as outras lojas'],\n",
        "    ['', ''],\n",
        "    ['Oportunidades (Opportunities)', 'Ameaças (Threats)'],\n",
        "    ['• Potencial para venda e reinvestimento em negócio mais lucrativo', '• Continuidade da operação pode resultar em perdas financeiras'],\n",
        "    ['• Realocação de recursos para as lojas com melhor desempenho', '• Possível deterioração adicional do desempenho se mantida'],\n",
        "    ['• Possibilidade de consolidação do negócio', '• Competição com as outras lojas da rede que têm melhor desempenho']\n",
        "]\n",
        "\n",
        "# Criando um DataFrame para a análise SWOT\n",
        "swot_df = pd.DataFrame(swot_data[1:], columns=swot_data[0])\n",
        "\n",
        "# Exibindo a análise SWOT\n",
        "display(Markdown(\"### Análise SWOT da Loja 4:\"))\n",
        "display(swot_df)"
      ]
    },
    {
      "cell_type": "markdown",
      "metadata": {
        "id": "Ej2Ql5Yz9018"
      },
      "source": [
        "## 6.3 Análise de Impacto Financeiro\n",
        "\n",
        "Para complementar nossa análise, vamos examinar o impacto financeiro da Loja 4 em comparação com as outras lojas da rede:"
      ]
    },
    {
      "cell_type": "code",
      "execution_count": 17,
      "metadata": {
        "id": "Ej2Ql5Yz9019"
      },
      "outputs": [
        {
          "data": {
            "text/markdown": [
              "### Análise de Impacto Financeiro:"
            ],
            "text/plain": [
              "<IPython.core.display.Markdown object>"
            ]
          },
          "metadata": {},
          "output_type": "display_data"
        },
        {
          "data": {
            "text/markdown": [
              "**Diferença média de faturamento:** R$ 111,166.82 (8.03% acima da Loja 4)"
            ],
            "text/plain": [
              "<IPython.core.display.Markdown object>"
            ]
          },
          "metadata": {},
          "output_type": "display_data"
        },
        {
          "data": {
            "text/markdown": [
              "### Contribuição de Cada Loja para o Faturamento Total:"
            ],
            "text/plain": [
              "<IPython.core.display.Markdown object>"
            ]
          },
          "metadata": {},
          "output_type": "display_data"
        },
        {
          "data": {
            "application/vnd.microsoft.datawrangler.viewer.v0+json": {
              "columns": [
                {
                  "name": "index",
                  "rawType": "int64",
                  "type": "integer"
                },
                {
                  "name": "Loja",
                  "rawType": "object",
                  "type": "string"
                },
                {
                  "name": "Faturamento Total (R$)",
                  "rawType": "float64",
                  "type": "float"
                },
                {
                  "name": "Contribuição para Faturamento (%)",
                  "rawType": "float64",
                  "type": "float"
                }
              ],
              "conversionMethod": "pd.DataFrame",
              "ref": "e456130e-db02-4a1f-a1c8-f8f07901307e",
              "rows": [
                [
                  "0",
                  "Loja 1",
                  "1534509.12",
                  "26.134914877385"
                ],
                [
                  "1",
                  "Loja 2",
                  "1488459.06",
                  "25.35061559723574"
                ],
                [
                  "2",
                  "Loja 3",
                  "1464025.03",
                  "24.934468644546744"
                ],
                [
                  "3",
                  "Loja 4",
                  "1384497.58",
                  "23.580000880832515"
                ]
              ],
              "shape": {
                "columns": 3,
                "rows": 4
              }
            },
            "text/html": [
              "<div>\n",
              "<style scoped>\n",
              "    .dataframe tbody tr th:only-of-type {\n",
              "        vertical-align: middle;\n",
              "    }\n",
              "\n",
              "    .dataframe tbody tr th {\n",
              "        vertical-align: top;\n",
              "    }\n",
              "\n",
              "    .dataframe thead th {\n",
              "        text-align: right;\n",
              "    }\n",
              "</style>\n",
              "<table border=\"1\" class=\"dataframe\">\n",
              "  <thead>\n",
              "    <tr style=\"text-align: right;\">\n",
              "      <th></th>\n",
              "      <th>Loja</th>\n",
              "      <th>Faturamento Total (R$)</th>\n",
              "      <th>Contribuição para Faturamento (%)</th>\n",
              "    </tr>\n",
              "  </thead>\n",
              "  <tbody>\n",
              "    <tr>\n",
              "      <th>0</th>\n",
              "      <td>Loja 1</td>\n",
              "      <td>1534509.12</td>\n",
              "      <td>26.134915</td>\n",
              "    </tr>\n",
              "    <tr>\n",
              "      <th>1</th>\n",
              "      <td>Loja 2</td>\n",
              "      <td>1488459.06</td>\n",
              "      <td>25.350616</td>\n",
              "    </tr>\n",
              "    <tr>\n",
              "      <th>2</th>\n",
              "      <td>Loja 3</td>\n",
              "      <td>1464025.03</td>\n",
              "      <td>24.934469</td>\n",
              "    </tr>\n",
              "    <tr>\n",
              "      <th>3</th>\n",
              "      <td>Loja 4</td>\n",
              "      <td>1384497.58</td>\n",
              "      <td>23.580001</td>\n",
              "    </tr>\n",
              "  </tbody>\n",
              "</table>\n",
              "</div>"
            ],
            "text/plain": [
              "     Loja  Faturamento Total (R$)  Contribuição para Faturamento (%)\n",
              "0  Loja 1              1534509.12                          26.134915\n",
              "1  Loja 2              1488459.06                          25.350616\n",
              "2  Loja 3              1464025.03                          24.934469\n",
              "3  Loja 4              1384497.58                          23.580001"
            ]
          },
          "metadata": {},
          "output_type": "display_data"
        }
      ],
      "source": [
        "# Calculando a diferença de faturamento entre a Loja 4 e as outras lojas\n",
        "loja4_faturamento = metricas_df.loc[metricas_df['Loja'] == 'Loja 4', 'Faturamento Total (R$)'].values[0]\n",
        "outras_lojas_faturamento = metricas_df.loc[metricas_df['Loja'] != 'Loja 4', 'Faturamento Total (R$)'].mean()\n",
        "diferenca_faturamento = outras_lojas_faturamento - loja4_faturamento\n",
        "percentual_diferenca = (diferenca_faturamento / loja4_faturamento) * 100\n",
        "\n",
        "# Calculando a contribuição percentual de cada loja para o faturamento total\n",
        "faturamento_total = metricas_df['Faturamento Total (R$)'].sum()\n",
        "metricas_df['Contribuição para Faturamento (%)'] = (metricas_df['Faturamento Total (R$)'] / faturamento_total) * 100\n",
        "\n",
        "# Exibindo os resultados\n",
        "display(Markdown(\"### Análise de Impacto Financeiro:\"))\n",
        "display(Markdown(f\"**Diferença média de faturamento:** R$ {diferenca_faturamento:,.2f} ({percentual_diferenca:.2f}% acima da Loja 4)\"))\n",
        "\n",
        "# Exibindo a contribuição percentual de cada loja\n",
        "display(Markdown(\"### Contribuição de Cada Loja para o Faturamento Total:\"))\n",
        "display(metricas_df[['Loja', 'Faturamento Total (R$)', 'Contribuição para Faturamento (%)']].sort_values('Contribuição para Faturamento (%)', ascending=False))"
      ]
    },
    {
      "cell_type": "code",
      "execution_count": 18,
      "metadata": {
        "id": "Ej2Ql5Yz9020"
      },
      "outputs": [
        {
          "data": {
            "image/png": "[encoded data removed]",
            "text/plain": [
              "<Figure size 1000x800 with 1 Axes>"
            ]
          },
          "metadata": {},
          "output_type": "display_data"
        }
      ],
      "source": [
        "# Criando um gráfico de pizza para visualizar a contribuição de cada loja para o faturamento total\n",
        "plt.figure(figsize=(10, 8))\n",
        "explode = [0, 0, 0, 0.1]  # Destacando a Loja 4\n",
        "\n",
        "# Ordenando os dados para que a Loja 4 seja a última (para o explode funcionar corretamente)\n",
        "contrib_data = metricas_df.sort_values('Loja', ascending=False)\n",
        "\n",
        "plt.pie(contrib_data['Contribuição para Faturamento (%)'], \n",
        "        labels=contrib_data['Loja'], \n",
        "        autopct='%1.1f%%',\n",
        "        startangle=90, \n",
        "        explode=explode,\n",
        "        colors=cores,\n",
        "        shadow=True,\n",
        "        wedgeprops={'edgecolor': 'white', 'linewidth': 1})\n",
        "\n",
        "plt.title('Contribuição de Cada Loja para o Faturamento Total', fontsize=16)\n",
        "plt.axis('equal')  # Para garantir que o gráfico seja um círculo\n",
        "plt.tight_layout()\n",
        "plt.show()"
      ]
    },
    {
      "cell_type": "markdown",
      "metadata": {
        "id": "Ej2Ql5Yz9021"
      },
      "source": [
        "## 6.4 Recomendação Estratégica\n",
        "\n",
        "Com base na análise dos dados de desempenho das quatro lojas da Alura Store, recomendamos que o Sr. João venda a **Loja 4** pelos seguintes motivos:\n",
        "\n",
        "1. **Desempenho Financeiro Inferior:** A Loja 4 apresenta o menor faturamento total (R$ 1.384.497,58), aproximadamente 9,8% abaixo da média das outras lojas. Esta diferença significativa indica um desempenho comercial consistentemente inferior.\n",
        "\n",
        "2. **Contribuição Limitada para o Negócio:** A Loja 4 contribui com apenas 23,6% para o faturamento total da rede, a menor participação entre todas as lojas.\n",
        "\n",
        "3. **Avaliação de Clientes Mediana:** Embora não seja a pior em termos de avaliação de clientes, a Loja 4 apresenta um desempenho mediano (4,00 estrelas), não oferecendo uma vantagem competitiva significativa neste aspecto.\n",
        "\n",
        "4. **Vantagem de Frete Insuficiente:** Apesar de ter o menor custo médio de frete (R$ 31,28), esta vantagem operacional não é suficiente para compensar o baixo desempenho em faturamento. A economia em frete não se traduz em maior lucratividade geral.\n",
        "\n",
        "5. **Oportunidade de Reinvestimento:** A venda da Loja 4 proporcionaria capital para investimento em um novo negócio potencialmente mais lucrativo, ou para fortalecer as operações das lojas restantes que demonstram melhor desempenho.\n",
        "\n",
        "6. **Consolidação Estratégica:** A eliminação da unidade de menor desempenho permitiria uma consolidação estratégica do negócio, concentrando recursos e esforços gerenciais nas lojas mais rentáveis.\n",
        "\n",
        "Esta recomendação está alinhada com princípios de gestão estratégica que priorizam a alocação eficiente de recursos e a maximização do retorno sobre o investimento. A venda da Loja 4 representa a melhor oportunidade para o Sr. João otimizar seu portfólio de negócios e posicionar-se para um crescimento futuro mais sustentável."
      ]
    }
  ],
  "metadata": {
    "colab": {
      "provenance": []
    },
    "kernelspec": {
      "display_name": "base",
      "language": "python",
      "name": "python3"
    },
    "language_info": {
      "codemirror_mode": {
        "name": "ipython",
        "version": 3
      },
      "file_extension": ".py",
      "mimetype": "text/x-python",
      "name": "python",
      "nbconvert_exporter": "python",
      "pygments_lexer": "ipython3",
      "version": "3.12.7"
    }
  },
  "nbformat": 4,
  "nbformat_minor": 0
}
